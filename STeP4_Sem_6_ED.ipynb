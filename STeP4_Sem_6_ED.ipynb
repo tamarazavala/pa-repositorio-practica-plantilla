{
  "cells": [
    {
      "cell_type": "markdown",
      "metadata": {
        "id": "view-in-github",
        "colab_type": "text"
      },
      "source": [
        "<a href=\"https://colab.research.google.com/github/tamarazavala/pa-repositorio-practica-plantilla/blob/main/STeP4_Sem_6_ED.ipynb\" target=\"_parent\"><img src=\"https://colab.research.google.com/assets/colab-badge.svg\" alt=\"Open In Colab\"/></a>"
      ]
    },
    {
      "cell_type": "markdown",
      "metadata": {
        "id": "QCouA79h3Zha"
      },
      "source": [
        "## STeP 4 Sem 6\n"
      ]
    },
    {
      "cell_type": "code",
      "execution_count": 1,
      "metadata": {
        "id": "8oTKI_7kHHpW"
      },
      "outputs": [],
      "source": [
        "import sympy as sp\n",
        "import numpy as np"
      ]
    },
    {
      "cell_type": "markdown",
      "metadata": {
        "id": "2f_rp_UxHHpY"
      },
      "source": [
        "## REPRESENTACION GRÁFICA DE SUCESIONES"
      ]
    },
    {
      "cell_type": "code",
      "execution_count": 2,
      "metadata": {
        "id": "RTVM1mRnHHpc",
        "colab": {
          "base_uri": "https://localhost:8080/"
        },
        "outputId": "bd0fe7bd-3ec9-4386-dc4d-3af8af156e50"
      },
      "outputs": [
        {
          "output_type": "stream",
          "name": "stdout",
          "text": [
            "Cloning into 'cvyed'...\n",
            "remote: Enumerating objects: 695, done.\u001b[K\n",
            "remote: Counting objects: 100% (272/272), done.\u001b[K\n",
            "remote: Compressing objects: 100% (183/183), done.\u001b[K\n",
            "remote: Total 695 (delta 166), reused 148 (delta 89), pack-reused 423 (from 1)\u001b[K\n",
            "Receiving objects: 100% (695/695), 186.84 KiB | 1.95 MiB/s, done.\n",
            "Resolving deltas: 100% (408/408), done.\n"
          ]
        }
      ],
      "source": [
        "!git clone https://github.com/joaquinr-uner/cvyed"
      ]
    },
    {
      "cell_type": "code",
      "source": [
        "from cvyed import indice, grafica_sucesion"
      ],
      "metadata": {
        "id": "O24vEdRMHZ2e"
      },
      "execution_count": 3,
      "outputs": []
    },
    {
      "cell_type": "code",
      "source": [
        "n = sp.Symbol('n')"
      ],
      "metadata": {
        "id": "7iAAeh9zZXu-"
      },
      "execution_count": 4,
      "outputs": []
    },
    {
      "cell_type": "markdown",
      "source": [
        "$a_n = 20 - \\frac{4}{n^2}$"
      ],
      "metadata": {
        "id": "A-MxncC_jVzJ"
      }
    },
    {
      "cell_type": "code",
      "execution_count": 5,
      "metadata": {
        "id": "RPK7CR8-HHpe",
        "outputId": "9e34a463-57a2-4319-f9e9-c6171132003b",
        "colab": {
          "base_uri": "https://localhost:8080/",
          "height": 51
        }
      },
      "outputs": [
        {
          "output_type": "execute_result",
          "data": {
            "text/plain": [
              "20 - 4/n**2"
            ],
            "text/latex": "$\\displaystyle 20 - \\frac{4}{n^{2}}$"
          },
          "metadata": {},
          "execution_count": 5
        }
      ],
      "source": [
        "#Definicion del termino general en funcion del indice n\n",
        "a_n = 20-4/(n**2)\n",
        "a_n"
      ]
    },
    {
      "cell_type": "code",
      "execution_count": 7,
      "metadata": {
        "id": "PKC5zE5gHHpZ"
      },
      "outputs": [],
      "source": [
        "# Definimos la serie como función y buscamos el límite\n",
        "x = sp.Symbol('x')\n",
        "f = 20-4/(x**2)"
      ]
    },
    {
      "cell_type": "code",
      "execution_count": 8,
      "metadata": {
        "id": "cA8cDn4cHHpb",
        "outputId": "e1c4c870-a3f2-41e4-85ff-493c6a966d09",
        "colab": {
          "base_uri": "https://localhost:8080/",
          "height": 37
        }
      },
      "outputs": [
        {
          "output_type": "execute_result",
          "data": {
            "text/plain": [
              "20"
            ],
            "text/latex": "$\\displaystyle 20$"
          },
          "metadata": {},
          "execution_count": 8
        }
      ],
      "source": [
        "sp.limit(f, x, sp.oo)"
      ]
    },
    {
      "cell_type": "code",
      "source": [
        "nn  = indice(1,25) #define un indice númerico que inicia en el valor 1 y termina en el valor 25\"\"\""
      ],
      "metadata": {
        "id": "kJkrrlk1Zat5"
      },
      "execution_count": 9,
      "outputs": []
    },
    {
      "cell_type": "code",
      "execution_count": 10,
      "metadata": {
        "scrolled": true,
        "id": "HZBFyIklHHpe",
        "outputId": "4befd052-c736-435f-f7e8-a168fb140ae1",
        "colab": {
          "base_uri": "https://localhost:8080/",
          "height": 466
        }
      },
      "outputs": [
        {
          "output_type": "stream",
          "name": "stderr",
          "text": [
            "WARNING:matplotlib.legend:No artists with labels found to put in legend.  Note that artists whose label start with an underscore are ignored when legend() is called with no argument.\n"
          ]
        },
        {
          "output_type": "display_data",
          "data": {
            "text/plain": [
              "<Figure size 640x480 with 1 Axes>"
            ],
            "image/png": "[encoded data removed]"
          },
          "metadata": {}
        }
      ],
      "source": [
        "grafica_sucesion(nn,a_n) # realiza la gráfica de la sucesión que recibe como parámetro con la etiqueta correspondiente"
      ]
    },
    {
      "cell_type": "code",
      "source": [
        "nn"
      ],
      "metadata": {
        "id": "hR3ISJgTqkSH"
      },
      "execution_count": null,
      "outputs": []
    },
    {
      "cell_type": "code",
      "source": [
        "[a_n.subs(n,i) for i in nn]"
      ],
      "metadata": {
        "id": "KgBMN39Yqibf"
      },
      "execution_count": null,
      "outputs": []
    },
    {
      "cell_type": "markdown",
      "metadata": {
        "id": "yqe6i8XQHHpg"
      },
      "source": [
        "## EJERCICIO 6.1.2"
      ]
    },
    {
      "cell_type": "markdown",
      "source": [
        "$a_n = 9^n$"
      ],
      "metadata": {
        "id": "d8R_c9kejCld"
      }
    },
    {
      "cell_type": "code",
      "execution_count": null,
      "metadata": {
        "id": "1W0dICdJHHph"
      },
      "outputs": [],
      "source": [
        "# Buscar el límite\n",
        "x = sp.Symbol('x')\n",
        "f = 9**x\n",
        "sp.limit(...)"
      ]
    },
    {
      "cell_type": "code",
      "execution_count": null,
      "metadata": {
        "id": "RbqLhGMLHHph"
      },
      "outputs": [],
      "source": [
        "nn = indice(1,9) #define un indice que inicia en el valor 1 y termina en el valor 25\"\"\"\n",
        "nn"
      ]
    },
    {
      "cell_type": "code",
      "execution_count": null,
      "metadata": {
        "id": "PCn3ZjliHHpi"
      },
      "outputs": [],
      "source": [
        "#Definir el termino general en funcion del indice n\n",
        "a_n=..."
      ]
    },
    {
      "cell_type": "code",
      "execution_count": null,
      "metadata": {
        "scrolled": true,
        "id": "wTPebK9_HHpi"
      },
      "outputs": [],
      "source": [
        "[a_n.subs(n,i) for i in nn]"
      ]
    },
    {
      "cell_type": "code",
      "execution_count": null,
      "metadata": {
        "scrolled": true,
        "id": "UzptJ80tHHpj"
      },
      "outputs": [],
      "source": [
        "#realizar la gráfica de la sucesión que recibe como parámetro\n",
        "..."
      ]
    },
    {
      "cell_type": "markdown",
      "metadata": {
        "id": "i9yNKBLSHHpj"
      },
      "source": [
        "## EJERCICIO 6.1.4"
      ]
    },
    {
      "cell_type": "markdown",
      "source": [
        "$a_n = \\cos(n)$"
      ],
      "metadata": {
        "id": "Bc2S8nccjjw_"
      }
    },
    {
      "cell_type": "code",
      "execution_count": null,
      "metadata": {
        "id": "WWhOiLhkHHpk"
      },
      "outputs": [],
      "source": [
        "# Buscar el límite\n",
        "x = sp.Symbol('x')\n",
        "f = ...\n",
        "sp.limit(...)"
      ]
    },
    {
      "cell_type": "code",
      "execution_count": null,
      "metadata": {
        "id": "VNMp4iodHHpk"
      },
      "outputs": [],
      "source": [
        "#definir un indice que inicia en el valor 1 y termina en el valor 25\"\"\"\n",
        "..."
      ]
    },
    {
      "cell_type": "code",
      "execution_count": null,
      "metadata": {
        "id": "Sxys28IuHHpl"
      },
      "outputs": [],
      "source": [
        "#Definir del termino general en funcion del indice n\n",
        "..."
      ]
    },
    {
      "cell_type": "code",
      "execution_count": null,
      "metadata": {
        "scrolled": true,
        "id": "eZEKYoAEHHpl"
      },
      "outputs": [],
      "source": [
        "[a_n.subs(n,i) for i in nn]"
      ]
    },
    {
      "cell_type": "code",
      "execution_count": null,
      "metadata": {
        "scrolled": true,
        "id": "gqGO497oHHpl"
      },
      "outputs": [],
      "source": [
        "# realizar la gráfica de la sucesión que recibe como parámetro\n",
        "..."
      ]
    },
    {
      "cell_type": "code",
      "source": [],
      "metadata": {
        "id": "DFVu2Vog1vLh"
      },
      "execution_count": null,
      "outputs": []
    },
    {
      "cell_type": "markdown",
      "metadata": {
        "id": "SQfRkdiCHHpm"
      },
      "source": [
        "### 6.2.2. a)\n",
        "\n",
        "### $\\sum_{n=1}^\\infty \\frac{1}{n^{1/2}3^n}$"
      ]
    },
    {
      "cell_type": "code",
      "execution_count": null,
      "metadata": {
        "id": "UuIXEMDPHHpm"
      },
      "outputs": [],
      "source": [
        "nn = indice(1,20)#define un indice que inicia en el valor 1 y termina en el valor 20\"\"\""
      ]
    },
    {
      "cell_type": "code",
      "execution_count": null,
      "metadata": {
        "id": "wlPhxa8GHHpm"
      },
      "outputs": [],
      "source": [
        "#Definicion del termino general en funcion del indice n\n",
        "a_n=1/(n**(1/2)*3**n)\n",
        "a_n"
      ]
    },
    {
      "cell_type": "code",
      "execution_count": null,
      "metadata": {
        "id": "iudOQ_YuHHpm"
      },
      "outputs": [],
      "source": [
        "a_n.subs(n,1)"
      ]
    },
    {
      "cell_type": "code",
      "execution_count": null,
      "metadata": {
        "id": "hbM9NG-EHHpn"
      },
      "outputs": [],
      "source": [
        "#Definicion del termino general en funcion del indice n\n",
        "b_n=1/(3**n)\n",
        "b_n"
      ]
    },
    {
      "cell_type": "code",
      "execution_count": null,
      "metadata": {
        "scrolled": true,
        "id": "hMMxlqiCHHpn"
      },
      "outputs": [],
      "source": [
        "b_n.subs(n,1)"
      ]
    },
    {
      "cell_type": "code",
      "execution_count": null,
      "metadata": {
        "scrolled": true,
        "id": "LDOLAca6HHpn"
      },
      "outputs": [],
      "source": [
        "import matplotlib.pyplot as plt\n",
        "\n",
        "#Definimos una figura\n",
        "fig, axes = plt.subplots(figsize=(9, 6))\n",
        "#Graficamos (mediante puntos) sucesión en el intervalo que creamos\n",
        "grafica_sucesion(nn,a_n,ejes=axes,label=\"a_n = 1/(n**(1/2)*3**n)\")\n",
        "grafica_sucesion(nn,b_n,ejes=axes,label=\"b_n = 1/(3**n)\")\n",
        "plt.xlabel('n')\n",
        "plt.ylabel('a_n')\n",
        "#Define el rango de visualizacion de n\n",
        "axes.set_xlim(1,20)\n",
        "#Agrega una grilla\n",
        "axes.grid()\n",
        "#Agrega una leyenda\n",
        "axes.legend()"
      ]
    },
    {
      "cell_type": "markdown",
      "metadata": {
        "id": "BUKzyYhEHHpn"
      },
      "source": [
        "### 6.2.2. b)\n",
        "### $\\sum_{n=2}^\\infty \\frac{1}{(n^2+3)^{1/3}}$"
      ]
    },
    {
      "cell_type": "code",
      "execution_count": null,
      "metadata": {
        "id": "qHfFUPhfHHpo"
      },
      "outputs": [],
      "source": [
        "#Definicion del termino general a_n en funcion del indice n\n",
        "a_n=1/(n)\n",
        "a_n"
      ]
    },
    {
      "cell_type": "code",
      "execution_count": null,
      "metadata": {
        "id": "9K6wZUbvHHpo"
      },
      "outputs": [],
      "source": [
        "#Definicion del termino general b_n en funcion del indice n\n",
        "b_n = ..."
      ]
    },
    {
      "cell_type": "code",
      "source": [
        "#definir un indice que inicia en el valor 1 y termina en el valor 25\"\"\"\n",
        "..."
      ],
      "metadata": {
        "id": "-FVgykTsufx4"
      },
      "execution_count": null,
      "outputs": []
    },
    {
      "cell_type": "code",
      "execution_count": null,
      "metadata": {
        "id": "ra0zG1eYHHpo"
      },
      "outputs": [],
      "source": [
        "#Definimos una figura\n",
        "fig, axes = plt.subplots(figsize=(6, 6))\n",
        "#Graficamos (mediante puntos) sucesión en el intervalo que creamos\n",
        "...\n",
        "#Definimos las etiquetasde los ejes\n",
        "plt.xlabel('n')\n",
        "plt.ylabel('a_n b_n')\n",
        "#Define el rango de visualizacion de n\n",
        "axes.set_xlim(0,20)\n",
        "#Agrega una grilla\n",
        "axes.grid()\n",
        "#Agrega una leyenda\n",
        "axes.legend()"
      ]
    },
    {
      "cell_type": "markdown",
      "metadata": {
        "id": "jhkltS4h3Zhc"
      },
      "source": [
        "Determine la representación en serie de potencias, centradas en a, de las siguientes funciones:"
      ]
    },
    {
      "cell_type": "code",
      "source": [],
      "metadata": {
        "id": "YJ7yZERQ2TR8"
      },
      "execution_count": null,
      "outputs": []
    },
    {
      "cell_type": "markdown",
      "metadata": {
        "id": "KiAVJ6EwHHps"
      },
      "source": [
        "##a)\n",
        "##$\\sum_{n=1}^\\infty \\frac{1}{n^{1/2}}$"
      ]
    },
    {
      "cell_type": "code",
      "source": [
        "# Creamos un rango de valores dentro del intervalo (inicio,final+1),\n",
        "inicio = 1\n",
        "final = 20\n",
        "nn = np.arange(inicio,final+1)\n",
        "#Definicion del termino general en funcion del indice n\n",
        "a_n=1/(n**(1/2))\n",
        "a_n"
      ],
      "metadata": {
        "id": "27_wQ7PBuAlp"
      },
      "execution_count": null,
      "outputs": []
    },
    {
      "cell_type": "code",
      "source": [
        "import matplotlib.pyplot as plt\n",
        "\n",
        "#Definimos una figura\n",
        "fig, axes = plt.subplots(figsize=(6, 4))\n",
        "#Graficamos (mediante puntos) sucesión en el intervalo que creamos: (inicio,final+1) con pasos de 1\n",
        "grafica_sucesion(nn, a_n,ejes=axes,label=\"1/(n**(1/2))\")\n",
        "#Definimos las etiquetasde los ejes\n",
        "plt.xlabel('n')\n",
        "plt.ylabel('a_n')\n",
        "#Define el rango de visualizacion de n\n",
        "axes.set_xlim(0,20)\n",
        "#Agrega una grilla\n",
        "axes.grid()\n",
        "#Agrega una leyenda\n",
        "axes.legend()"
      ],
      "metadata": {
        "id": "bSx81pCZtiuL"
      },
      "execution_count": null,
      "outputs": []
    },
    {
      "cell_type": "code",
      "source": [
        "from cvyed import sum_par"
      ],
      "metadata": {
        "id": "-UBmJKIylU2M"
      },
      "execution_count": null,
      "outputs": []
    },
    {
      "cell_type": "code",
      "execution_count": null,
      "metadata": {
        "id": "b6Vt1DA3HHpv"
      },
      "outputs": [],
      "source": [
        "#Exprese la sucesiones de sumas parciales para un determinado intervalo\n",
        "inicio=1\n",
        "final=20\n",
        "sum_par(a_n,inicio,final)"
      ]
    },
    {
      "cell_type": "code",
      "source": [
        "nn = np.arange(inicio,final+1)"
      ],
      "metadata": {
        "id": "9PTQABprYbKd"
      },
      "execution_count": null,
      "outputs": []
    },
    {
      "cell_type": "code",
      "execution_count": null,
      "metadata": {
        "id": "5-4BH7XHHHpv"
      },
      "outputs": [],
      "source": [
        "#Definimos una figura\n",
        "fig, axes = plt.subplots(figsize=(8, 4))\n",
        "#Graficamos la sucesión {1/n**(1/2)} en el intervalo que creamos: (inicio,final+1) con pasos de 1\n",
        "#junto a la sucesion de sumas parciales\n",
        "grafica_sucesion(nn, a_n,ejes=axes,label=\"terminos de la sucesion 1/(n**(1/2))\")\n",
        "\n",
        "grafica_sucesion(nn, sum_par(a_n,inicio,final),ejes=axes, label=\"sucesion de sumas parciales S_N\")\n",
        "\n",
        "\n",
        "#Definimos las etiquetasde los ejes\n",
        "plt.xlabel('n')\n",
        "plt.ylabel('a_n')\n",
        "#Define el rango de visualizacion de n\n",
        "axes.set_xlim(0,20)\n",
        "#Agrega una grilla\n",
        "axes.grid()\n",
        "#Agrega una leyenda\n",
        "axes.legend()"
      ]
    },
    {
      "cell_type": "markdown",
      "source": [
        "## d)\n",
        "##$\\sum_{n=1}^\\infty \\frac{n^3}{5^n}$"
      ],
      "metadata": {
        "id": "iKFZexiut2LS"
      }
    },
    {
      "cell_type": "code",
      "source": [
        "a_n = n**3/(5**n)\n",
        "a_n"
      ],
      "metadata": {
        "id": "6K8b5sChwbS6"
      },
      "execution_count": null,
      "outputs": []
    },
    {
      "cell_type": "code",
      "source": [
        "a_n1 = a_n.subs(n,n+1)\n",
        "a_n1"
      ],
      "metadata": {
        "id": "dYXIZjw_wYJ4"
      },
      "execution_count": null,
      "outputs": []
    },
    {
      "cell_type": "code",
      "source": [
        "sp.limit(a_n1/a_n,n,sp.oo)"
      ],
      "metadata": {
        "id": "zPo1JKM4wOvP"
      },
      "execution_count": null,
      "outputs": []
    },
    {
      "cell_type": "code",
      "source": [
        "#Definimos una figura\n",
        "fig, axes = plt.subplots(figsize=(8, 4))\n",
        "#Graficamos (mediante puntos) sucesión {n**3/(5**n)} en el intervalo que creamos: (k,k+n) con pasos de 1\n",
        "#junto a la sucesion de sumas parciales\n",
        "...\n",
        "\n",
        "\n",
        "\n",
        "#Definimos las etiquetasde los ejes\n",
        "plt.xlabel('n')\n",
        "plt.ylabel('a_n')\n",
        "#Define el rango de visualizacion de n\n",
        "axes.set_xlim(0,20)\n",
        "#Agrega una grilla\n",
        "axes.grid()\n",
        "#Agrega una leyenda\n",
        "axes.legend()"
      ],
      "metadata": {
        "id": "mnMC4Fkfxf-o"
      },
      "execution_count": null,
      "outputs": []
    },
    {
      "cell_type": "markdown",
      "source": [
        "# Representaciones de Funciones mediante Series de Potencias"
      ],
      "metadata": {
        "id": "BhafTH_-2hJN"
      }
    },
    {
      "cell_type": "markdown",
      "metadata": {
        "id": "L6W3t7Se3Zhf"
      },
      "source": [
        "# 6.1.1"
      ]
    },
    {
      "cell_type": "markdown",
      "metadata": {
        "id": "R3t5bcEy3Zhh"
      },
      "source": [
        "e) $f(x)=e^x$ $a=0$"
      ]
    },
    {
      "cell_type": "code",
      "execution_count": null,
      "metadata": {
        "id": "N1BQ-FSU3Zhi"
      },
      "outputs": [],
      "source": [
        "import sympy as sp\n",
        "import math"
      ]
    },
    {
      "cell_type": "code",
      "execution_count": null,
      "metadata": {
        "id": "e2qTnQkN3Zhj"
      },
      "outputs": [],
      "source": [
        "x,n,m = sp.symbols('x,n,m')\n",
        "\n",
        "an=(x)**(n)/sp.factorial(n)\n",
        "\n",
        "S_m = sp.Sum(an,(n, 0, m))\n",
        "\n",
        "S_m"
      ]
    },
    {
      "cell_type": "markdown",
      "metadata": {
        "id": "L3BN9dwV3Zhk"
      },
      "source": [
        "# 6.1.2\n",
        "## a) Indique el intervalo de convergencia"
      ]
    },
    {
      "cell_type": "code",
      "source": [
        "a_n = 1/sp.factorial(n)\n",
        "a_n"
      ],
      "metadata": {
        "id": "v2Ev1sPF-ygz"
      },
      "execution_count": null,
      "outputs": []
    },
    {
      "cell_type": "code",
      "source": [
        "a_n1 = a_n.subs(n,n+1)\n",
        "a_n1"
      ],
      "metadata": {
        "id": "5VJBVbqO-3sQ"
      },
      "execution_count": null,
      "outputs": []
    },
    {
      "cell_type": "code",
      "source": [
        "sp.limit(a_n1/a_n,n,sp.oo)"
      ],
      "metadata": {
        "id": "PcukhgBN-7Uo"
      },
      "execution_count": null,
      "outputs": []
    },
    {
      "cell_type": "markdown",
      "metadata": {
        "id": "yjtT3cDZ3Zhk"
      },
      "source": [
        "\n",
        "## b) Calculamos $f(x_0)$ y $S_{10}(x_0)$ con $X_0$ dentro del intervalo de convergencia."
      ]
    },
    {
      "cell_type": "code",
      "execution_count": null,
      "metadata": {
        "id": "d7QZ4rt93Zhl"
      },
      "outputs": [],
      "source": [
        "#Defina la funcion f\n",
        "f = sp.Function('f')\n",
        "f = sp.exp(x)"
      ]
    },
    {
      "cell_type": "code",
      "execution_count": null,
      "metadata": {
        "id": "UYrGaSZN3Zhm"
      },
      "outputs": [],
      "source": [
        "f"
      ]
    },
    {
      "cell_type": "code",
      "execution_count": null,
      "metadata": {
        "id": "_YwTvlEn3Zhm"
      },
      "outputs": [],
      "source": [
        "x_0=3"
      ]
    },
    {
      "cell_type": "code",
      "execution_count": null,
      "metadata": {
        "id": "m_xCnTTK3Zhm"
      },
      "outputs": [],
      "source": [
        "#defina la suma parcial S_10 con m=10\n",
        "S_10 = S_m.subs(m,10)"
      ]
    },
    {
      "cell_type": "code",
      "execution_count": null,
      "metadata": {
        "id": "itu6Jjy83Zhn"
      },
      "outputs": [],
      "source": [
        "S_10"
      ]
    },
    {
      "cell_type": "code",
      "execution_count": null,
      "metadata": {
        "scrolled": true,
        "id": "_AlSk7rz3Zho"
      },
      "outputs": [],
      "source": [
        "S_10.doit()"
      ]
    },
    {
      "cell_type": "code",
      "execution_count": null,
      "metadata": {
        "id": "1qDxtCoE3Zho"
      },
      "outputs": [],
      "source": [
        "f.subs(x,x_0).evalf()"
      ]
    },
    {
      "cell_type": "code",
      "execution_count": null,
      "metadata": {
        "id": "9k2MIrN03Zhp"
      },
      "outputs": [],
      "source": [
        "S_10.subs(x,x_0)"
      ]
    },
    {
      "cell_type": "code",
      "execution_count": null,
      "metadata": {
        "id": "U_aL3MGW3Zhp"
      },
      "outputs": [],
      "source": [
        "S_10.subs(x,x_0).evalf()"
      ]
    },
    {
      "cell_type": "markdown",
      "metadata": {
        "id": "2W91HAsU3Zhq"
      },
      "source": [
        "### Calculamos $f(x_1)$ y $S_{10}(x_1)$ con $X_1$ fuera del intervalo de convergencia."
      ]
    },
    {
      "cell_type": "markdown",
      "metadata": {
        "id": "FRUlqZKY3Zhr"
      },
      "source": [
        "No es posible, pues el intervalo de convergencia es infinito. Es decir son todos los reales."
      ]
    },
    {
      "cell_type": "markdown",
      "metadata": {
        "id": "NnM9Mj_q3Zhr"
      },
      "source": [
        "# c)"
      ]
    },
    {
      "cell_type": "code",
      "execution_count": null,
      "metadata": {
        "scrolled": true,
        "id": "NF0VmeXS3Zhr"
      },
      "outputs": [],
      "source": [
        "S_1 = S_m.subs(m,1)"
      ]
    },
    {
      "cell_type": "code",
      "execution_count": null,
      "metadata": {
        "id": "VY84bHkd3Zhr"
      },
      "outputs": [],
      "source": [
        "S_1.doit()"
      ]
    },
    {
      "cell_type": "code",
      "execution_count": null,
      "metadata": {
        "scrolled": true,
        "id": "vNrYWi5w3Zhr"
      },
      "outputs": [],
      "source": [
        "S_3 = S_m.subs(m,3)"
      ]
    },
    {
      "cell_type": "code",
      "execution_count": null,
      "metadata": {
        "id": "Gny2D7H33Zhr"
      },
      "outputs": [],
      "source": [
        "S_3.doit()"
      ]
    },
    {
      "cell_type": "markdown",
      "metadata": {
        "id": "PCtCpKS33Zhs"
      },
      "source": [
        "# d)"
      ]
    },
    {
      "cell_type": "code",
      "execution_count": null,
      "metadata": {
        "scrolled": false,
        "id": "wEmDR_AC3Zht"
      },
      "outputs": [],
      "source": [
        "a=-3\n",
        "b=3\n",
        "c = -2\n",
        "d = 20\n",
        "G_S1  = sp.plotting.plot(S_1, xlim=(a,b), ylim=(c,d), line_color='r', xlabel ='x', label='S_1',legend=True,show=False)\n",
        "G_S3  = sp.plotting.plot(S_3, xlim=(a,b), ylim=(c,d), line_color='b', xlabel ='x', label='S_3',show=False)\n",
        "G_S10 = sp.plotting.plot(S_10, xlim=(a,b), ylim=(c,d), line_color='k', xlabel ='x', label='S_10',show=False)\n",
        "G_ex  = sp.plotting.plot(sp.exp(x), xlim=(a,b), ylim=(c,d), line_color='y', xlabel ='x', label='exp(x)',show=False)\n",
        "G_S1.extend(G_S3)\n",
        "G_S1.extend(G_S10)\n",
        "G_S1.extend(G_ex)"
      ]
    },
    {
      "cell_type": "code",
      "execution_count": null,
      "metadata": {
        "id": "6pCbyQjv3Zht"
      },
      "outputs": [],
      "source": [
        "G_S1.show()"
      ]
    },
    {
      "cell_type": "code",
      "execution_count": null,
      "metadata": {
        "id": "5mXzSXDv3Zht"
      },
      "outputs": [],
      "source": []
    },
    {
      "cell_type": "markdown",
      "metadata": {
        "id": "PKH3eiS53Zhu"
      },
      "source": [
        "# a)"
      ]
    },
    {
      "cell_type": "markdown",
      "metadata": {
        "id": "-qklc3yI3Zhu"
      },
      "source": [
        "a) $f(x)=\\dfrac{1}{1-x}$ $a=6$"
      ]
    },
    {
      "cell_type": "code",
      "execution_count": null,
      "metadata": {
        "id": "s2mKLW0E3Zhu"
      },
      "outputs": [],
      "source": [
        "#Defina la funcion f\n",
        "..."
      ]
    },
    {
      "cell_type": "code",
      "execution_count": null,
      "metadata": {
        "id": "HfbNB5Hu3Zhv"
      },
      "outputs": [],
      "source": [
        "f"
      ]
    },
    {
      "cell_type": "code",
      "source": [
        "from cvyed import derivadas"
      ],
      "metadata": {
        "id": "fRRSGaiG7KnI"
      },
      "execution_count": null,
      "outputs": []
    },
    {
      "cell_type": "code",
      "execution_count": null,
      "metadata": {
        "scrolled": true,
        "id": "v4hhn7_N3Zhv"
      },
      "outputs": [],
      "source": [
        "derivadas(f,5)"
      ]
    },
    {
      "cell_type": "code",
      "execution_count": null,
      "metadata": {
        "id": "z6Q3lChP3Zhv"
      },
      "outputs": [],
      "source": [
        "f_n = sp.factorial(n)/(1-x)**(n+1)\n",
        "f_n"
      ]
    },
    {
      "cell_type": "code",
      "execution_count": null,
      "metadata": {
        "id": "bjabjqdn3Zhv",
        "colab": {
          "base_uri": "https://localhost:8080/",
          "height": 39
        },
        "outputId": "6b4fba42-2806-4a5d-dff8-db00425f35e0"
      },
      "outputs": [
        {
          "output_type": "execute_result",
          "data": {
            "text/plain": [
              "(-5)**(-n - 1)*factorial(n)"
            ],
            "text/latex": "$\\displaystyle \\left(-5\\right)^{- n - 1} n!$"
          },
          "metadata": {},
          "execution_count": 21
        }
      ],
      "source": [
        "c=6\n",
        "\n",
        "f_n_c = f_n.subs(x,c)\n",
        "\n",
        "f_n_c"
      ]
    },
    {
      "cell_type": "code",
      "execution_count": null,
      "metadata": {
        "id": "Nqs61eop3Zhw",
        "colab": {
          "base_uri": "https://localhost:8080/",
          "height": 39
        },
        "outputId": "a87e10d6-d910-4e94-d626-e60698ca8b5d"
      },
      "outputs": [
        {
          "output_type": "execute_result",
          "data": {
            "text/plain": [
              "(-5)**(-n - 1)*(x - 6)**n"
            ],
            "text/latex": "$\\displaystyle \\left(-5\\right)^{- n - 1} \\left(x - 6\\right)^{n}$"
          },
          "metadata": {},
          "execution_count": 22
        }
      ],
      "source": [
        "a_n = f_n_c/sp.factorial(n)*(x-c)**n\n",
        "\n",
        "a_n"
      ]
    },
    {
      "cell_type": "code",
      "source": [
        "a_n1 = a_n.subs(n,n+1)\n",
        "a_n1"
      ],
      "metadata": {
        "id": "iO69BzAz_YDh",
        "colab": {
          "base_uri": "https://localhost:8080/",
          "height": 39
        },
        "outputId": "d6be89f2-bc61-4fca-c0a3-236c11e8a2c8"
      },
      "execution_count": null,
      "outputs": [
        {
          "output_type": "execute_result",
          "data": {
            "text/plain": [
              "(-5)**(-n - 2)*(x - 6)**(n + 1)"
            ],
            "text/latex": "$\\displaystyle \\left(-5\\right)^{- n - 2} \\left(x - 6\\right)^{n + 1}$"
          },
          "metadata": {},
          "execution_count": 25
        }
      ]
    },
    {
      "cell_type": "code",
      "source": [
        "sp.limit(a_n1/a_n,n,sp.oo)"
      ],
      "metadata": {
        "id": "8uYkPjxK_b9A",
        "colab": {
          "base_uri": "https://localhost:8080/",
          "height": 51
        },
        "outputId": "e308a28a-192e-4f47-ebe5-add0dd099e7a"
      },
      "execution_count": null,
      "outputs": [
        {
          "output_type": "execute_result",
          "data": {
            "text/plain": [
              "6/5 - x/5"
            ],
            "text/latex": "$\\displaystyle \\frac{6}{5} - \\frac{x}{5}$"
          },
          "metadata": {},
          "execution_count": 26
        }
      ]
    },
    {
      "cell_type": "code",
      "source": [
        "sp.solve(sp.Abs(6/5-x/5)<1)"
      ],
      "metadata": {
        "id": "H0_2ihHP_qw5",
        "colab": {
          "base_uri": "https://localhost:8080/",
          "height": 38
        },
        "outputId": "5db56cba-8613-4e65-e24d-89865b07a2d2"
      },
      "execution_count": null,
      "outputs": [
        {
          "output_type": "execute_result",
          "data": {
            "text/plain": [
              "(1.0 < x) & (x < 11.0)"
            ],
            "text/latex": "$\\displaystyle 1.0 < x \\wedge x < 11.0$"
          },
          "metadata": {},
          "execution_count": 27
        }
      ]
    },
    {
      "cell_type": "code",
      "execution_count": null,
      "metadata": {
        "id": "jiQElvNx3Zhw"
      },
      "outputs": [],
      "source": [
        "# Definimos la sumatoria de la serie\n",
        "S_m = ...\n",
        "\n",
        "S_m"
      ]
    },
    {
      "cell_type": "markdown",
      "metadata": {
        "id": "qkVCVI9K3Zhx"
      },
      "source": [
        "### Calculamos $f(x_0)$ y $S_{10}(x_0)$ con $X_0$ dentro del intervalo de convergencia."
      ]
    },
    {
      "cell_type": "code",
      "execution_count": null,
      "metadata": {
        "id": "AhjcgKc93Zhy"
      },
      "outputs": [],
      "source": [
        "#define la suma partcial S_10 con m=10\n",
        "..."
      ]
    },
    {
      "cell_type": "code",
      "execution_count": null,
      "metadata": {
        "id": "G33hgPKs3Zhy"
      },
      "outputs": [],
      "source": [
        "S_10"
      ]
    },
    {
      "cell_type": "code",
      "execution_count": null,
      "metadata": {
        "scrolled": true,
        "id": "_HZalGHC3Zhy"
      },
      "outputs": [],
      "source": [
        "S_10.doit()"
      ]
    },
    {
      "cell_type": "code",
      "execution_count": null,
      "metadata": {
        "id": "ielGLFXO3Zhz"
      },
      "outputs": [],
      "source": [
        "# Elegimos un punto DENTRO del intervalo de convergencia\n",
        "x_0= ..."
      ]
    },
    {
      "cell_type": "code",
      "execution_count": null,
      "metadata": {
        "id": "aHjTWQoa3Zhz"
      },
      "outputs": [],
      "source": [
        "f.subs(x,x_0)"
      ]
    },
    {
      "cell_type": "code",
      "execution_count": null,
      "metadata": {
        "id": "VpUnO3ks3Zhz"
      },
      "outputs": [],
      "source": [
        "S_10.subs(x,x_0)"
      ]
    },
    {
      "cell_type": "code",
      "execution_count": null,
      "metadata": {
        "id": "-hPpxca73Zh0"
      },
      "outputs": [],
      "source": [
        "S_10.subs(x,x_0).evalf()"
      ]
    },
    {
      "cell_type": "markdown",
      "metadata": {
        "id": "MPmRFshs3Zh0"
      },
      "source": [
        "### Calculamos $f(x_1)$ y $S_{10}(x_1)$ con $X_1$ fuera del intervalo de convergencia."
      ]
    },
    {
      "cell_type": "code",
      "execution_count": null,
      "metadata": {
        "id": "e2CO1hK-3Zh0"
      },
      "outputs": [],
      "source": [
        "# Elegimos un punto FUERA del intervalo de convergencia\n",
        "x_0= ..."
      ]
    },
    {
      "cell_type": "code",
      "execution_count": null,
      "metadata": {
        "id": "DotKceS83Zh1"
      },
      "outputs": [],
      "source": [
        "f.subs(x,x_0)"
      ]
    },
    {
      "cell_type": "code",
      "execution_count": null,
      "metadata": {
        "id": "xVD-PeJF3Zh1"
      },
      "outputs": [],
      "source": [
        "S_10.subs(x,x_0)"
      ]
    },
    {
      "cell_type": "code",
      "execution_count": null,
      "metadata": {
        "id": "kJ21hsm-3Zh2"
      },
      "outputs": [],
      "source": [
        "S_10.subs(x,x_0).evalf()"
      ]
    },
    {
      "cell_type": "markdown",
      "metadata": {
        "id": "T6NzHuWI3Zh2"
      },
      "source": [
        "# c)"
      ]
    },
    {
      "cell_type": "code",
      "execution_count": null,
      "metadata": {
        "scrolled": true,
        "id": "j-z71k953Zh2"
      },
      "outputs": [],
      "source": [
        "S_1 = ..."
      ]
    },
    {
      "cell_type": "code",
      "execution_count": null,
      "metadata": {
        "id": "d1su_jXm3Zh3"
      },
      "outputs": [],
      "source": [
        "S_1.doit()"
      ]
    },
    {
      "cell_type": "code",
      "execution_count": null,
      "metadata": {
        "scrolled": true,
        "id": "a0GZDyr03Zh3"
      },
      "outputs": [],
      "source": [
        "S_3 = ..."
      ]
    },
    {
      "cell_type": "code",
      "execution_count": null,
      "metadata": {
        "id": "lJoUxVz33Zh3"
      },
      "outputs": [],
      "source": [
        "S_3.doit()"
      ]
    },
    {
      "cell_type": "code",
      "execution_count": null,
      "metadata": {
        "scrolled": true,
        "id": "UQdiUkaH3Zh3"
      },
      "outputs": [],
      "source": [
        "S_10 = ..."
      ]
    },
    {
      "cell_type": "code",
      "execution_count": null,
      "metadata": {
        "id": "kTgyobVD3Zh3"
      },
      "outputs": [],
      "source": [
        "S_10.doit()"
      ]
    },
    {
      "cell_type": "markdown",
      "metadata": {
        "id": "5IjClu9N3Zh3"
      },
      "source": [
        "# d)"
      ]
    },
    {
      "cell_type": "code",
      "execution_count": null,
      "metadata": {
        "id": "8RBVg1uf3Zh4"
      },
      "outputs": [],
      "source": []
    },
    {
      "cell_type": "code",
      "execution_count": null,
      "metadata": {
        "scrolled": false,
        "id": "a8i_fORD3Zh4"
      },
      "outputs": [],
      "source": [
        "a=0\n",
        "b=15\n",
        "c = -2\n",
        "d = 0.5\n",
        "G_S1  = ...\n",
        "G_S3  = ...\n",
        "G_S10 = ...\n",
        "G_ex  = ...\n",
        "G_S1.extend(G_S3)\n",
        "G_S1.extend(G_S10)\n",
        "G_S1.extend(G_ex)"
      ]
    },
    {
      "cell_type": "code",
      "execution_count": null,
      "metadata": {
        "id": "VXmTgtk23Zh4"
      },
      "outputs": [],
      "source": [
        "G_S1.show()"
      ]
    }
  ],
  "metadata": {
    "kernelspec": {
      "display_name": "Python 3",
      "language": "python",
      "name": "python3"
    },
    "language_info": {
      "codemirror_mode": {
        "name": "ipython",
        "version": 3
      },
      "file_extension": ".py",
      "mimetype": "text/x-python",
      "name": "python",
      "nbconvert_exporter": "python",
      "pygments_lexer": "ipython3",
      "version": "3.8.3"
    },
    "colab": {
      "provenance": [],
      "include_colab_link": true
    }
  },
  "nbformat": 4,
  "nbformat_minor": 0
}