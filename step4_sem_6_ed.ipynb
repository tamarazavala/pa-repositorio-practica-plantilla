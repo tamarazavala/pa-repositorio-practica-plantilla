{
  "cells": [
    {
      "cell_type": "markdown",
      "metadata": {
        "id": "view-in-github",
        "colab_type": "text"
      },
      "source": [
        "<a href=\"https://colab.research.google.com/github/tamarazavala/pa-repositorio-practica-plantilla/blob/main/step4_sem_6_ed.ipynb\" target=\"_parent\"><img src=\"https://colab.research.google.com/assets/colab-badge.svg\" alt=\"Open In Colab\"/></a>"
      ]
    },
    {
      "cell_type": "markdown",
      "metadata": {
        "id": "QCouA79h3Zha"
      },
      "source": [
        "## STeP 4 Sem 6\n"
      ]
    },
    {
      "cell_type": "code",
      "execution_count": 1,
      "metadata": {
        "id": "8oTKI_7kHHpW"
      },
      "outputs": [],
      "source": [
        "import sympy as sp\n",
        "import numpy as np"
      ]
    },
    {
      "cell_type": "markdown",
      "metadata": {
        "id": "2f_rp_UxHHpY"
      },
      "source": [
        "## REPRESENTACION GRÁFICA DE SUCESIONES"
      ]
    },
    {
      "cell_type": "code",
      "execution_count": 2,
      "metadata": {
        "id": "RTVM1mRnHHpc",
        "colab": {
          "base_uri": "https://localhost:8080/"
        },
        "outputId": "1c8aa20b-915c-47ea-b7f7-51fea62072bc"
      },
      "outputs": [
        {
          "output_type": "stream",
          "name": "stdout",
          "text": [
            "Cloning into 'cvyed'...\n",
            "remote: Enumerating objects: 695, done.\u001b[K\n",
            "remote: Counting objects: 100% (272/272), done.\u001b[K\n",
            "remote: Compressing objects: 100% (183/183), done.\u001b[K\n",
            "remote: Total 695 (delta 166), reused 148 (delta 89), pack-reused 423 (from 1)\u001b[K\n",
            "Receiving objects: 100% (695/695), 186.84 KiB | 3.28 MiB/s, done.\n",
            "Resolving deltas: 100% (408/408), done.\n"
          ]
        }
      ],
      "source": [
        "!git clone https://github.com/joaquinr-uner/cvyed"
      ]
    },
    {
      "cell_type": "code",
      "source": [
        "from cvyed import indice, grafica_sucesion"
      ],
      "metadata": {
        "id": "O24vEdRMHZ2e"
      },
      "execution_count": 3,
      "outputs": []
    },
    {
      "cell_type": "code",
      "source": [
        "n = sp.Symbol('n')"
      ],
      "metadata": {
        "id": "7iAAeh9zZXu-"
      },
      "execution_count": 4,
      "outputs": []
    },
    {
      "cell_type": "markdown",
      "source": [
        "$a_n = 20 - \\frac{4}{n^2}$"
      ],
      "metadata": {
        "id": "A-MxncC_jVzJ"
      }
    },
    {
      "cell_type": "code",
      "execution_count": 5,
      "metadata": {
        "id": "RPK7CR8-HHpe",
        "colab": {
          "base_uri": "https://localhost:8080/",
          "height": 51
        },
        "outputId": "1f576159-98cc-416a-b980-b8627be4917c"
      },
      "outputs": [
        {
          "output_type": "execute_result",
          "data": {
            "text/plain": [
              "20 - 4/n**2"
            ],
            "text/latex": "$\\displaystyle 20 - \\frac{4}{n^{2}}$"
          },
          "metadata": {},
          "execution_count": 5
        }
      ],
      "source": [
        "#Definicion del termino general en funcion del indice n\n",
        "a_n = 20-4/(n**2)\n",
        "a_n"
      ]
    },
    {
      "cell_type": "code",
      "execution_count": 6,
      "metadata": {
        "id": "PKC5zE5gHHpZ"
      },
      "outputs": [],
      "source": [
        "# Definimos la serie como función y buscamos el límite\n",
        "x = sp.Symbol('x')\n",
        "f = 20-4/(x**2)"
      ]
    },
    {
      "cell_type": "code",
      "execution_count": 7,
      "metadata": {
        "id": "cA8cDn4cHHpb",
        "colab": {
          "base_uri": "https://localhost:8080/",
          "height": 37
        },
        "outputId": "d4cf4ca3-5161-4dd7-bc8b-27659c286d1b"
      },
      "outputs": [
        {
          "output_type": "execute_result",
          "data": {
            "text/plain": [
              "20"
            ],
            "text/latex": "$\\displaystyle 20$"
          },
          "metadata": {},
          "execution_count": 7
        }
      ],
      "source": [
        "sp.limit(f, x, sp.oo)  #00 significa infinito x tiende a infinito"
      ]
    },
    {
      "cell_type": "code",
      "source": [
        "nn  = indice(1,25) #define un indice númerico que inicia en el valor 1 y termina en el valor 25\"\"\""
      ],
      "metadata": {
        "id": "kJkrrlk1Zat5"
      },
      "execution_count": 8,
      "outputs": []
    },
    {
      "cell_type": "code",
      "execution_count": 9,
      "metadata": {
        "scrolled": true,
        "id": "HZBFyIklHHpe",
        "colab": {
          "base_uri": "https://localhost:8080/",
          "height": 466
        },
        "outputId": "b28627b5-d800-40cb-8e18-98059265bfe9"
      },
      "outputs": [
        {
          "output_type": "stream",
          "name": "stderr",
          "text": [
            "WARNING:matplotlib.legend:No artists with labels found to put in legend.  Note that artists whose label start with an underscore are ignored when legend() is called with no argument.\n"
          ]
        },
        {
          "output_type": "display_data",
          "data": {
            "text/plain": [
              "<Figure size 640x480 with 1 Axes>"
            ],
            "image/png": "[encoded data removed]"
          },
          "metadata": {}
        }
      ],
      "source": [
        "grafica_sucesion(nn,a_n) # realiza la gráfica de la sucesión que recibe como parámetro con la etiqueta correspondiente"
      ]
    },
    {
      "cell_type": "code",
      "source": [
        "nn"
      ],
      "metadata": {
        "id": "hR3ISJgTqkSH",
        "colab": {
          "base_uri": "https://localhost:8080/"
        },
        "outputId": "84d46be0-e1d3-4e90-88c7-22fb857686cc"
      },
      "execution_count": 10,
      "outputs": [
        {
          "output_type": "execute_result",
          "data": {
            "text/plain": [
              "array([ 1,  2,  3,  4,  5,  6,  7,  8,  9, 10, 11, 12, 13, 14, 15, 16, 17,\n",
              "       18, 19, 20, 21, 22, 23, 24, 25])"
            ]
          },
          "metadata": {},
          "execution_count": 10
        }
      ]
    },
    {
      "cell_type": "code",
      "source": [
        "[a_n.subs(n,i) for i in nn]"
      ],
      "metadata": {
        "id": "KgBMN39Yqibf",
        "colab": {
          "base_uri": "https://localhost:8080/"
        },
        "outputId": "73268ad6-aa98-48cd-cb9c-64ccd63c60d6"
      },
      "execution_count": 11,
      "outputs": [
        {
          "output_type": "execute_result",
          "data": {
            "text/plain": [
              "[16,\n",
              " 19,\n",
              " 176/9,\n",
              " 79/4,\n",
              " 496/25,\n",
              " 179/9,\n",
              " 976/49,\n",
              " 319/16,\n",
              " 1616/81,\n",
              " 499/25,\n",
              " 2416/121,\n",
              " 719/36,\n",
              " 3376/169,\n",
              " 979/49,\n",
              " 4496/225,\n",
              " 1279/64,\n",
              " 5776/289,\n",
              " 1619/81,\n",
              " 7216/361,\n",
              " 1999/100,\n",
              " 8816/441,\n",
              " 2419/121,\n",
              " 10576/529,\n",
              " 2879/144,\n",
              " 12496/625]"
            ]
          },
          "metadata": {},
          "execution_count": 11
        }
      ]
    },
    {
      "cell_type": "markdown",
      "metadata": {
        "id": "yqe6i8XQHHpg"
      },
      "source": [
        "## EJERCICIO 6.1.2"
      ]
    },
    {
      "cell_type": "markdown",
      "source": [
        "$a_n = 9^n$"
      ],
      "metadata": {
        "id": "d8R_c9kejCld"
      }
    },
    {
      "cell_type": "code",
      "execution_count": 14,
      "metadata": {
        "id": "1W0dICdJHHph",
        "colab": {
          "base_uri": "https://localhost:8080/",
          "height": 37
        },
        "outputId": "1b983804-8ac0-4251-eda1-95d3d76dcd4d"
      },
      "outputs": [
        {
          "output_type": "execute_result",
          "data": {
            "text/plain": [
              "oo"
            ],
            "text/latex": "$\\displaystyle \\infty$"
          },
          "metadata": {},
          "execution_count": 14
        }
      ],
      "source": [
        "# Buscar el límite\n",
        "x = sp.Symbol('x')\n",
        "f = 9**x\n",
        "sp.limit(f,x,sp.oo)"
      ]
    },
    {
      "cell_type": "code",
      "execution_count": 15,
      "metadata": {
        "id": "RbqLhGMLHHph",
        "colab": {
          "base_uri": "https://localhost:8080/"
        },
        "outputId": "2f385f50-d179-4719-e0f4-d17fcbabcccc"
      },
      "outputs": [
        {
          "output_type": "execute_result",
          "data": {
            "text/plain": [
              "array([1, 2, 3, 4, 5, 6, 7, 8, 9])"
            ]
          },
          "metadata": {},
          "execution_count": 15
        }
      ],
      "source": [
        "nn = indice(1,9) #define un indice que inicia en el valor 1 y termina en el valor 9\"\"\"\n",
        "nn"
      ]
    },
    {
      "cell_type": "code",
      "execution_count": 16,
      "metadata": {
        "id": "PCn3ZjliHHpi"
      },
      "outputs": [],
      "source": [
        "#Definir el termino general en funcion del indice n\n",
        "a_n=9**n"
      ]
    },
    {
      "cell_type": "code",
      "execution_count": 17,
      "metadata": {
        "scrolled": true,
        "id": "wTPebK9_HHpi",
        "colab": {
          "base_uri": "https://localhost:8080/"
        },
        "outputId": "2a39284f-6782-4e1b-9f61-c8ce1c1674c5"
      },
      "outputs": [
        {
          "output_type": "execute_result",
          "data": {
            "text/plain": [
              "[9, 81, 729, 6561, 59049, 531441, 4782969, 43046721, 387420489]"
            ]
          },
          "metadata": {},
          "execution_count": 17
        }
      ],
      "source": [
        "[a_n.subs(n,i) for i in nn]"
      ]
    },
    {
      "cell_type": "code",
      "execution_count": 18,
      "metadata": {
        "scrolled": true,
        "id": "UzptJ80tHHpj",
        "colab": {
          "base_uri": "https://localhost:8080/",
          "height": 482
        },
        "outputId": "4ff2a009-c789-4416-d145-4750b4efdf13"
      },
      "outputs": [
        {
          "output_type": "stream",
          "name": "stderr",
          "text": [
            "WARNING:matplotlib.legend:No artists with labels found to put in legend.  Note that artists whose label start with an underscore are ignored when legend() is called with no argument.\n"
          ]
        },
        {
          "output_type": "display_data",
          "data": {
            "text/plain": [
              "<Figure size 640x480 with 1 Axes>"
            ],
            "image/png": "[encoded data removed]"
          },
          "metadata": {}
        }
      ],
      "source": [
        "#realizar la gráfica de la sucesión que recibe como parámetro\n",
        "grafica_sucesion(nn,a_n)"
      ]
    },
    {
      "cell_type": "markdown",
      "metadata": {
        "id": "i9yNKBLSHHpj"
      },
      "source": [
        "## EJERCICIO 6.1.4"
      ]
    },
    {
      "cell_type": "markdown",
      "source": [
        "$a_n = \\cos(n)$"
      ],
      "metadata": {
        "id": "Bc2S8nccjjw_"
      }
    },
    {
      "cell_type": "code",
      "execution_count": 19,
      "metadata": {
        "id": "WWhOiLhkHHpk",
        "colab": {
          "base_uri": "https://localhost:8080/",
          "height": 37
        },
        "outputId": "9859c81b-3841-4ace-e51b-8a9136b82883"
      },
      "outputs": [
        {
          "output_type": "execute_result",
          "data": {
            "text/plain": [
              "AccumBounds(-1, 1)"
            ],
            "text/latex": "$\\displaystyle \\left\\langle -1, 1\\right\\rangle$"
          },
          "metadata": {},
          "execution_count": 19
        }
      ],
      "source": [
        "# Buscar el límite\n",
        "x = sp.Symbol('x')\n",
        "f = sp.cos(x)\n",
        "sp.limit(f,x,sp.oo)"
      ]
    },
    {
      "cell_type": "code",
      "execution_count": 20,
      "metadata": {
        "id": "VNMp4iodHHpk",
        "colab": {
          "base_uri": "https://localhost:8080/"
        },
        "outputId": "0bf73f17-8211-48ed-aeae-f55dd1f66f23"
      },
      "outputs": [
        {
          "output_type": "execute_result",
          "data": {
            "text/plain": [
              "array([ 1,  2,  3,  4,  5,  6,  7,  8,  9, 10, 11, 12, 13, 14, 15, 16, 17,\n",
              "       18, 19, 20, 21, 22, 23, 24, 25])"
            ]
          },
          "metadata": {},
          "execution_count": 20
        }
      ],
      "source": [
        "#definir un indice que inicia en el valor 1 y termina en el valor 25\"\"\"\n",
        "nn = indice(1,25)\n",
        "nn"
      ]
    },
    {
      "cell_type": "code",
      "execution_count": 23,
      "metadata": {
        "id": "Sxys28IuHHpl"
      },
      "outputs": [],
      "source": [
        "#Definir del termino general en funcion del indice n\n",
        "a_n=sp.cos(n)"
      ]
    },
    {
      "cell_type": "code",
      "execution_count": 21,
      "metadata": {
        "scrolled": true,
        "id": "eZEKYoAEHHpl",
        "colab": {
          "base_uri": "https://localhost:8080/"
        },
        "outputId": "042d7fb7-fee6-4d45-f8cf-fbc7407adda8"
      },
      "outputs": [
        {
          "output_type": "execute_result",
          "data": {
            "text/plain": [
              "[9,\n",
              " 81,\n",
              " 729,\n",
              " 6561,\n",
              " 59049,\n",
              " 531441,\n",
              " 4782969,\n",
              " 43046721,\n",
              " 387420489,\n",
              " 3486784401,\n",
              " 31381059609,\n",
              " 282429536481,\n",
              " 2541865828329,\n",
              " 22876792454961,\n",
              " 205891132094649,\n",
              " 1853020188851841,\n",
              " 16677181699666569,\n",
              " 150094635296999121,\n",
              " 1350851717672992089,\n",
              " 12157665459056928801,\n",
              " 109418989131512359209,\n",
              " 984770902183611232881,\n",
              " 8862938119652501095929,\n",
              " 79766443076872509863361,\n",
              " 717897987691852588770249]"
            ]
          },
          "metadata": {},
          "execution_count": 21
        }
      ],
      "source": [
        "[a_n.subs(n,i) for i in nn]"
      ]
    },
    {
      "cell_type": "code",
      "execution_count": 24,
      "metadata": {
        "scrolled": true,
        "id": "gqGO497oHHpl",
        "colab": {
          "base_uri": "https://localhost:8080/",
          "height": 466
        },
        "outputId": "b21c54bb-7fdc-4d82-8e25-364e88a4c96c"
      },
      "outputs": [
        {
          "output_type": "stream",
          "name": "stderr",
          "text": [
            "WARNING:matplotlib.legend:No artists with labels found to put in legend.  Note that artists whose label start with an underscore are ignored when legend() is called with no argument.\n"
          ]
        },
        {
          "output_type": "display_data",
          "data": {
            "text/plain": [
              "<Figure size 640x480 with 1 Axes>"
            ],
            "image/png": "[encoded data removed]"
          },
          "metadata": {}
        }
      ],
      "source": [
        "# realizar la gráfica de la sucesión que recibe como parámetro\n",
        "grafica_sucesion(nn,a_n)"
      ]
    },
    {
      "cell_type": "code",
      "source": [],
      "metadata": {
        "id": "DFVu2Vog1vLh"
      },
      "execution_count": null,
      "outputs": []
    },
    {
      "cell_type": "markdown",
      "metadata": {
        "id": "SQfRkdiCHHpm"
      },
      "source": [
        "### 6.2.2. a)\n",
        "\n",
        "### $\\sum_{n=1}^\\infty \\frac{1}{n^{1/2}3^n}$"
      ]
    },
    {
      "cell_type": "code",
      "execution_count": 25,
      "metadata": {
        "id": "UuIXEMDPHHpm"
      },
      "outputs": [],
      "source": [
        "nn = indice(1,20)#define un indice que inicia en el valor 1 y termina en el valor 20\"\"\""
      ]
    },
    {
      "cell_type": "code",
      "execution_count": 26,
      "metadata": {
        "id": "wlPhxa8GHHpm",
        "colab": {
          "base_uri": "https://localhost:8080/",
          "height": 53
        },
        "outputId": "537d62f4-0a6f-422e-fd07-931ef01c3cdc"
      },
      "outputs": [
        {
          "output_type": "execute_result",
          "data": {
            "text/plain": [
              "1/(3**n*n**0.5)"
            ],
            "text/latex": "$\\displaystyle \\frac{3^{- n}}{n^{0.5}}$"
          },
          "metadata": {},
          "execution_count": 26
        }
      ],
      "source": [
        "#Definicion del termino general en funcion del indice n\n",
        "a_n=1/(n**(1/2)*3**n)\n",
        "a_n"
      ]
    },
    {
      "cell_type": "code",
      "execution_count": 27,
      "metadata": {
        "id": "iudOQ_YuHHpm",
        "colab": {
          "base_uri": "https://localhost:8080/",
          "height": 51
        },
        "outputId": "acfd80ff-2510-49eb-9cc6-ece40bbd5beb"
      },
      "outputs": [
        {
          "output_type": "execute_result",
          "data": {
            "text/plain": [
              "1/3"
            ],
            "text/latex": "$\\displaystyle \\frac{1}{3}$"
          },
          "metadata": {},
          "execution_count": 27
        }
      ],
      "source": [
        "a_n.subs(n,1)"
      ]
    },
    {
      "cell_type": "code",
      "execution_count": 28,
      "metadata": {
        "id": "hbM9NG-EHHpn",
        "colab": {
          "base_uri": "https://localhost:8080/",
          "height": 37
        },
        "outputId": "e92cd5ee-7a0c-42d8-8c7e-3017243cb2ad"
      },
      "outputs": [
        {
          "output_type": "execute_result",
          "data": {
            "text/plain": [
              "3**(-n)"
            ],
            "text/latex": "$\\displaystyle 3^{- n}$"
          },
          "metadata": {},
          "execution_count": 28
        }
      ],
      "source": [
        "#Definicion del termino general en funcion del indice n\n",
        "b_n=1/(3**n)\n",
        "b_n"
      ]
    },
    {
      "cell_type": "code",
      "execution_count": 29,
      "metadata": {
        "scrolled": true,
        "id": "hMMxlqiCHHpn",
        "colab": {
          "base_uri": "https://localhost:8080/",
          "height": 51
        },
        "outputId": "a27a5ab9-3d04-463b-a1fd-a82ecbc9975f"
      },
      "outputs": [
        {
          "output_type": "execute_result",
          "data": {
            "text/plain": [
              "1/3"
            ],
            "text/latex": "$\\displaystyle \\frac{1}{3}$"
          },
          "metadata": {},
          "execution_count": 29
        }
      ],
      "source": [
        "b_n.subs(n,1)"
      ]
    },
    {
      "cell_type": "code",
      "execution_count": 30,
      "metadata": {
        "scrolled": true,
        "id": "LDOLAca6HHpn",
        "colab": {
          "base_uri": "https://localhost:8080/",
          "height": 564
        },
        "outputId": "e4df7e65-b8ef-48cb-968c-82db17c8e80a"
      },
      "outputs": [
        {
          "output_type": "execute_result",
          "data": {
            "text/plain": [
              "<matplotlib.legend.Legend at 0x795fbd9e3d00>"
            ]
          },
          "metadata": {},
          "execution_count": 30
        },
        {
          "output_type": "display_data",
          "data": {
            "text/plain": [
              "<Figure size 900x600 with 1 Axes>"
            ],
            "image/png": "[encoded data removed]"
          },
          "metadata": {}
        }
      ],
      "source": [
        "import matplotlib.pyplot as plt\n",
        "\n",
        "#Definimos una figura\n",
        "fig, axes = plt.subplots(figsize=(9, 6))\n",
        "#Graficamos (mediante puntos) sucesión en el intervalo que creamos\n",
        "grafica_sucesion(nn,a_n,ejes=axes,label=\"a_n = 1/(n**(1/2)*3**n)\")\n",
        "grafica_sucesion(nn,b_n,ejes=axes,label=\"b_n = 1/(3**n)\")\n",
        "plt.xlabel('n')\n",
        "plt.ylabel('a_n')\n",
        "#Define el rango de visualizacion de n\n",
        "axes.set_xlim(1,20)\n",
        "#Agrega una grilla\n",
        "axes.grid()\n",
        "#Agrega una leyenda\n",
        "axes.legend()"
      ]
    },
    {
      "cell_type": "markdown",
      "metadata": {
        "id": "BUKzyYhEHHpn"
      },
      "source": [
        "### 6.2.2. b)\n",
        "### $\\sum_{n=2}^\\infty \\frac{1}{(n^2+3)^{1/3}}$"
      ]
    },
    {
      "cell_type": "code",
      "execution_count": 31,
      "metadata": {
        "id": "qHfFUPhfHHpo",
        "colab": {
          "base_uri": "https://localhost:8080/",
          "height": 51
        },
        "outputId": "6f208e06-8faa-4f87-fd74-15c3ef0228c2"
      },
      "outputs": [
        {
          "output_type": "execute_result",
          "data": {
            "text/plain": [
              "1/n"
            ],
            "text/latex": "$\\displaystyle \\frac{1}{n}$"
          },
          "metadata": {},
          "execution_count": 31
        }
      ],
      "source": [
        "#Definicion del termino general a_n en funcion del indice n\n",
        "a_n=1/(n)\n",
        "a_n"
      ]
    },
    {
      "cell_type": "code",
      "execution_count": 35,
      "metadata": {
        "id": "9K6wZUbvHHpo",
        "colab": {
          "base_uri": "https://localhost:8080/",
          "height": 41
        },
        "outputId": "a1e2b047-f9ae-4b1d-8735-421b30669cee"
      },
      "outputs": [
        {
          "output_type": "execute_result",
          "data": {
            "text/plain": [
              "(n**2 + 3)**(-0.333333333333333)"
            ],
            "text/latex": "$\\displaystyle \\left(n^{2} + 3\\right)^{-0.333333333333333}$"
          },
          "metadata": {},
          "execution_count": 35
        }
      ],
      "source": [
        "#Definicion del termino general b_n en funcion del indice n\n",
        "b_n = 1/(n**2+3)**(1/3)\n",
        "b_n"
      ]
    },
    {
      "cell_type": "code",
      "source": [
        "#definir un indice que inicia en el valor 2 y termina en el valor 25\"\"\"\n",
        "nn = indice(2,25)\n",
        "nn"
      ],
      "metadata": {
        "id": "-FVgykTsufx4",
        "colab": {
          "base_uri": "https://localhost:8080/"
        },
        "outputId": "e7840a30-b55d-419e-8654-2148e9c957a6"
      },
      "execution_count": 38,
      "outputs": [
        {
          "output_type": "execute_result",
          "data": {
            "text/plain": [
              "array([ 2,  3,  4,  5,  6,  7,  8,  9, 10, 11, 12, 13, 14, 15, 16, 17, 18,\n",
              "       19, 20, 21, 22, 23, 24, 25])"
            ]
          },
          "metadata": {},
          "execution_count": 38
        }
      ]
    },
    {
      "cell_type": "code",
      "execution_count": 39,
      "metadata": {
        "id": "ra0zG1eYHHpo",
        "colab": {
          "base_uri": "https://localhost:8080/",
          "height": 559
        },
        "outputId": "970426f8-769c-423d-873b-19c7839f8a08"
      },
      "outputs": [
        {
          "output_type": "execute_result",
          "data": {
            "text/plain": [
              "<matplotlib.legend.Legend at 0x795fa99b7e80>"
            ]
          },
          "metadata": {},
          "execution_count": 39
        },
        {
          "output_type": "display_data",
          "data": {
            "text/plain": [
              "<Figure size 600x600 with 1 Axes>"
            ],
            "image/png": "[encoded data removed]"
          },
          "metadata": {}
        }
      ],
      "source": [
        "#Definimos una figura\n",
        "fig, axes = plt.subplots(figsize=(6, 6))\n",
        "#Graficamos (mediante puntos) sucesión en el intervalo que creamos\n",
        "grafica_sucesion(nn,a_n,ejes=axes,label=\"a_n = 1/(n)\")\n",
        "grafica_sucesion(nn,b_n,ejes=axes,label=\"b_n = 1/(3**n)\")\n",
        "#Definimos las etiquetasde los ejes\n",
        "plt.xlabel('n')\n",
        "plt.ylabel('a_n b_n')\n",
        "#Define el rango de visualizacion de n\n",
        "axes.set_xlim(0,20)\n",
        "#Agrega una grilla\n",
        "axes.grid()\n",
        "#Agrega una leyenda\n",
        "axes.legend()"
      ]
    },
    {
      "cell_type": "markdown",
      "metadata": {
        "id": "jhkltS4h3Zhc"
      },
      "source": [
        "Determine la representación en serie de potencias, centradas en a, de las siguientes funciones:"
      ]
    },
    {
      "cell_type": "markdown",
      "source": [
        "No se nota la divergencia en la gráfica, para ello graficamos la sucesion de sumas parciales. Lo hacemos en el ejemplo siguiente"
      ],
      "metadata": {
        "id": "K2XZxYgMAm3T"
      }
    },
    {
      "cell_type": "markdown",
      "metadata": {
        "id": "KiAVJ6EwHHps"
      },
      "source": [
        "##a)\n",
        "##$\\sum_{n=1}^\\infty \\frac{1}{n^{1/2}}$"
      ]
    },
    {
      "cell_type": "code",
      "source": [
        "# Creamos un rango de valores dentro del intervalo (inicio,final+1),\n",
        "inicio = 1\n",
        "final = 20\n",
        "nn = np.arange(inicio,final+1)\n",
        "#Definicion del termino general en funcion del indice n\n",
        "a_n=1/(n**(1/2))\n",
        "a_n"
      ],
      "metadata": {
        "id": "27_wQ7PBuAlp",
        "colab": {
          "base_uri": "https://localhost:8080/",
          "height": 38
        },
        "outputId": "e5440b48-8034-4dc0-d190-1795456d614a"
      },
      "execution_count": 42,
      "outputs": [
        {
          "output_type": "execute_result",
          "data": {
            "text/plain": [
              "n**(-0.5)"
            ],
            "text/latex": "$\\displaystyle n^{-0.5}$"
          },
          "metadata": {},
          "execution_count": 42
        }
      ]
    },
    {
      "cell_type": "code",
      "source": [
        "import matplotlib.pyplot as plt\n",
        "\n",
        "#Definimos una figura\n",
        "fig, axes = plt.subplots(figsize=(6, 4))\n",
        "#Graficamos (mediante puntos) sucesión en el intervalo que creamos: (inicio,final+1) con pasos de 1\n",
        "grafica_sucesion(nn, a_n,ejes=axes,label=\"1/(n**(1/2))\")\n",
        "#Definimos las etiquetasde los ejes\n",
        "plt.xlabel('n')\n",
        "plt.ylabel('a_n')\n",
        "#Define el rango de visualizacion de n\n",
        "axes.set_xlim(0,20)\n",
        "#Agrega una grilla\n",
        "axes.grid()\n",
        "#Agrega una leyenda\n",
        "axes.legend()"
      ],
      "metadata": {
        "id": "bSx81pCZtiuL",
        "colab": {
          "base_uri": "https://localhost:8080/",
          "height": 405
        },
        "outputId": "0b3bc653-9db2-4383-bf5e-48be4a9c2eb4"
      },
      "execution_count": 43,
      "outputs": [
        {
          "output_type": "execute_result",
          "data": {
            "text/plain": [
              "<matplotlib.legend.Legend at 0x795fa990d720>"
            ]
          },
          "metadata": {},
          "execution_count": 43
        },
        {
          "output_type": "display_data",
          "data": {
            "text/plain": [
              "<Figure size 600x400 with 1 Axes>"
            ],
            "image/png": "[encoded data removed]"
          },
          "metadata": {}
        }
      ]
    },
    {
      "cell_type": "code",
      "source": [
        "from cvyed import sum_par"
      ],
      "metadata": {
        "id": "-UBmJKIylU2M"
      },
      "execution_count": 44,
      "outputs": []
    },
    {
      "cell_type": "code",
      "execution_count": 45,
      "metadata": {
        "id": "b6Vt1DA3HHpv",
        "colab": {
          "base_uri": "https://localhost:8080/"
        },
        "outputId": "5d1c5f05-11b7-4caa-ad14-e8412c4c6e0d"
      },
      "outputs": [
        {
          "output_type": "execute_result",
          "data": {
            "text/plain": [
              "array([1, 1.70710678118655, 2.28445705037617, 2.78445705037617,\n",
              "       3.23167064587613, 3.63991893633999, 4.01788340934922,\n",
              "       4.37143679994250, 4.70477013327583, 5.02099789929267,\n",
              "       5.32250924387043, 5.61118437846524, 5.88853447657786,\n",
              "       6.15579571849028, 6.41399460823744, 6.66399460823744,\n",
              "       6.90653023327378, 7.14223249366929, 7.37164822753985,\n",
              "       7.59525502528983], dtype=object)"
            ]
          },
          "metadata": {},
          "execution_count": 45
        }
      ],
      "source": [
        "#Exprese la sucesiones de sumas parciales para un determinado intervalo\n",
        "inicio=1\n",
        "final=20\n",
        "sum_par(a_n,inicio,final)"
      ]
    },
    {
      "cell_type": "code",
      "source": [
        "nn = np.arange(inicio,final+1)"
      ],
      "metadata": {
        "id": "9PTQABprYbKd"
      },
      "execution_count": 46,
      "outputs": []
    },
    {
      "cell_type": "code",
      "execution_count": 47,
      "metadata": {
        "id": "5-4BH7XHHHpv",
        "colab": {
          "base_uri": "https://localhost:8080/",
          "height": 405
        },
        "outputId": "11e83e6a-e189-4206-c0f0-80d449ee17c9"
      },
      "outputs": [
        {
          "output_type": "execute_result",
          "data": {
            "text/plain": [
              "<matplotlib.legend.Legend at 0x795fa990ed70>"
            ]
          },
          "metadata": {},
          "execution_count": 47
        },
        {
          "output_type": "display_data",
          "data": {
            "text/plain": [
              "<Figure size 800x400 with 1 Axes>"
            ],
            "image/png": "[encoded data removed]"
          },
          "metadata": {}
        }
      ],
      "source": [
        "#Definimos una figura\n",
        "fig, axes = plt.subplots(figsize=(8, 4))\n",
        "#Graficamos la sucesión {1/n**(1/2)} en el intervalo que creamos: (inicio,final+1) con pasos de 1\n",
        "#junto a la sucesion de sumas parciales\n",
        "grafica_sucesion(nn, a_n,ejes=axes,label=\"terminos de la sucesion 1/(n**(1/2))\")\n",
        "\n",
        "grafica_sucesion(nn, sum_par(a_n,inicio,final),ejes=axes, label=\"sucesion de sumas parciales S_N\")\n",
        "\n",
        "\n",
        "#Definimos las etiquetasde los ejes\n",
        "plt.xlabel('n')\n",
        "plt.ylabel('a_n')\n",
        "#Define el rango de visualizacion de n\n",
        "axes.set_xlim(0,20)\n",
        "#Agrega una grilla\n",
        "axes.grid()\n",
        "#Agrega una leyenda\n",
        "axes.legend()"
      ]
    },
    {
      "cell_type": "markdown",
      "source": [
        "La serie es divergente y vemos que la sucesion de usmas parciales crece y no se estabiliza en ningun valor."
      ],
      "metadata": {
        "id": "zF2adJofAZdz"
      }
    },
    {
      "cell_type": "markdown",
      "source": [
        "## d)\n",
        "##$\\sum_{n=1}^\\infty \\frac{n^3}{5^n}$"
      ],
      "metadata": {
        "id": "iKFZexiut2LS"
      }
    },
    {
      "cell_type": "code",
      "source": [
        "a_n = n**3/(5**n)\n",
        "a_n"
      ],
      "metadata": {
        "id": "6K8b5sChwbS6",
        "colab": {
          "base_uri": "https://localhost:8080/",
          "height": 38
        },
        "outputId": "5b74db35-7fba-4c0d-91ca-d0177c6e86b4"
      },
      "execution_count": 48,
      "outputs": [
        {
          "output_type": "execute_result",
          "data": {
            "text/plain": [
              "n**3/5**n"
            ],
            "text/latex": "$\\displaystyle 5^{- n} n^{3}$"
          },
          "metadata": {},
          "execution_count": 48
        }
      ]
    },
    {
      "cell_type": "code",
      "source": [
        "a_n1 = a_n.subs(n,n+1)\n",
        "a_n1"
      ],
      "metadata": {
        "id": "dYXIZjw_wYJ4",
        "colab": {
          "base_uri": "https://localhost:8080/",
          "height": 39
        },
        "outputId": "31646d0e-2836-482e-ccdb-2495f252812a"
      },
      "execution_count": 49,
      "outputs": [
        {
          "output_type": "execute_result",
          "data": {
            "text/plain": [
              "5**(-n - 1)*(n + 1)**3"
            ],
            "text/latex": "$\\displaystyle 5^{- n - 1} \\left(n + 1\\right)^{3}$"
          },
          "metadata": {},
          "execution_count": 49
        }
      ]
    },
    {
      "cell_type": "code",
      "source": [
        "sp.limit(a_n1/a_n,n,sp.oo)"
      ],
      "metadata": {
        "id": "zPo1JKM4wOvP",
        "colab": {
          "base_uri": "https://localhost:8080/",
          "height": 51
        },
        "outputId": "2d55619a-ea7e-4b40-a1f0-655ff1ab705a"
      },
      "execution_count": 50,
      "outputs": [
        {
          "output_type": "execute_result",
          "data": {
            "text/plain": [
              "1/5"
            ],
            "text/latex": "$\\displaystyle \\frac{1}{5}$"
          },
          "metadata": {},
          "execution_count": 50
        }
      ]
    },
    {
      "cell_type": "code",
      "source": [
        "#Exprese la sucesiones de sumas parciales para un determinado intervalo\n",
        "inicio=1\n",
        "final=20\n",
        "sum_par(a_n,inicio,final)"
      ],
      "metadata": {
        "colab": {
          "base_uri": "https://localhost:8080/"
        },
        "id": "2kk92PGuB4iy",
        "outputId": "e44b4d51-fc30-4b82-8a55-6eac21bc3f41"
      },
      "execution_count": 52,
      "outputs": [
        {
          "output_type": "execute_result",
          "data": {
            "text/plain": [
              "array([1/5, 13/25, 92/125, 524/625, 549/625, 13941/15625, 70048/78125,\n",
              "       350752/390625, 1754489/1953125, 1754689/1953125, 43868556/48828125,\n",
              "       219344508/244140625, 1096724737/1220703125, 5483626429/6103515625,\n",
              "       5483627104/6103515625, 137090681696/152587890625,\n",
              "       685453413393/762939453125, 3427267072797/3814697265625,\n",
              "       17136335370844/19073486328125, 17136335372444/19073486328125],\n",
              "      dtype=object)"
            ]
          },
          "metadata": {},
          "execution_count": 52
        }
      ]
    },
    {
      "cell_type": "code",
      "source": [
        "nn = np.arange(inicio,final+1)"
      ],
      "metadata": {
        "id": "ZH3mUOTBCBe6"
      },
      "execution_count": 53,
      "outputs": []
    },
    {
      "cell_type": "code",
      "source": [
        "#Definimos una figura\n",
        "fig, axes = plt.subplots(figsize=(8, 4))\n",
        "#Graficamos (mediante puntos) sucesión {n**3/(5**n)} en el intervalo que creamos: (k,k+n) con pasos de 1\n",
        "#junto a la sucesion de sumas parciales\n",
        "grafica_sucesion(nn, a_n,ejes=axes,label=\"terminos de la sucesion n**3/(5**n)\")\n",
        "\n",
        "grafica_sucesion(nn, sum_par(a_n,inicio,final),ejes=axes, label=\"sucesion de sumas parciales S_N\")\n",
        "\n",
        "#Definimos las etiquetasde los ejes\n",
        "plt.xlabel('n')\n",
        "plt.ylabel('a_n')\n",
        "#Define el rango de visualizacion de n\n",
        "axes.set_xlim(0,20)\n",
        "#Agrega una grilla\n",
        "axes.grid()\n",
        "#Agrega una leyenda\n",
        "axes.legend()"
      ],
      "metadata": {
        "id": "mnMC4Fkfxf-o",
        "colab": {
          "base_uri": "https://localhost:8080/",
          "height": 405
        },
        "outputId": "fcd0b2cd-9793-49dc-deee-df91b86d76d8"
      },
      "execution_count": 54,
      "outputs": [
        {
          "output_type": "execute_result",
          "data": {
            "text/plain": [
              "<matplotlib.legend.Legend at 0x795fa97b8fd0>"
            ]
          },
          "metadata": {},
          "execution_count": 54
        },
        {
          "output_type": "display_data",
          "data": {
            "text/plain": [
              "<Figure size 800x400 with 1 Axes>"
            ],
            "image/png": "[encoded data removed]"
          },
          "metadata": {}
        }
      ]
    },
    {
      "cell_type": "markdown",
      "source": [
        "a medida que n aumenta, tiende a estyabilizarse a un valor el lim de n-oo de Sn=L. Asi que la sucesión de sumas parciales es convergente, entonces la serie converge.\n"
      ],
      "metadata": {
        "id": "DrcLJeGzCyC7"
      }
    },
    {
      "cell_type": "markdown",
      "source": [
        "# Representaciones de Funciones mediante Series de Potencias"
      ],
      "metadata": {
        "id": "BhafTH_-2hJN"
      }
    },
    {
      "cell_type": "markdown",
      "metadata": {
        "id": "L6W3t7Se3Zhf"
      },
      "source": [
        "# 6.1.1"
      ]
    },
    {
      "cell_type": "markdown",
      "metadata": {
        "id": "R3t5bcEy3Zhh"
      },
      "source": [
        "e) $f(x)=e^x$ $a=0$"
      ]
    },
    {
      "cell_type": "code",
      "execution_count": 55,
      "metadata": {
        "id": "N1BQ-FSU3Zhi"
      },
      "outputs": [],
      "source": [
        "import sympy as sp\n",
        "import math"
      ]
    },
    {
      "cell_type": "code",
      "execution_count": 56,
      "metadata": {
        "id": "e2qTnQkN3Zhj",
        "colab": {
          "base_uri": "https://localhost:8080/",
          "height": 66
        },
        "outputId": "f387ce2d-d41f-4c7f-d52a-ed27a5d0e2e2"
      },
      "outputs": [
        {
          "output_type": "execute_result",
          "data": {
            "text/plain": [
              "Sum(x**n/factorial(n), (n, 0, m))"
            ],
            "text/latex": "$\\displaystyle \\sum_{n=0}^{m} \\frac{x^{n}}{n!}$"
          },
          "metadata": {},
          "execution_count": 56
        }
      ],
      "source": [
        "x,n,m = sp.symbols('x,n,m')\n",
        "\n",
        "an=(x)**(n)/sp.factorial(n)\n",
        "\n",
        "S_m = sp.Sum(an,(n, 0, m))  #m simboliza el infinito, es un valor que luego puedo ir variando\n",
        "\n",
        "S_m"
      ]
    },
    {
      "cell_type": "markdown",
      "metadata": {
        "id": "L3BN9dwV3Zhk"
      },
      "source": [
        "# 6.1.2\n",
        "## a) Indique el intervalo de convergencia"
      ]
    },
    {
      "cell_type": "code",
      "source": [
        "a_n = 1/sp.factorial(n)\n",
        "a_n"
      ],
      "metadata": {
        "id": "v2Ev1sPF-ygz",
        "colab": {
          "base_uri": "https://localhost:8080/",
          "height": 51
        },
        "outputId": "7a260001-7e10-44af-96a9-c64bf4725969"
      },
      "execution_count": 57,
      "outputs": [
        {
          "output_type": "execute_result",
          "data": {
            "text/plain": [
              "1/factorial(n)"
            ],
            "text/latex": "$\\displaystyle \\frac{1}{n!}$"
          },
          "metadata": {},
          "execution_count": 57
        }
      ]
    },
    {
      "cell_type": "code",
      "source": [
        "a_n1 = a_n.subs(n,n+1)\n",
        "a_n1"
      ],
      "metadata": {
        "id": "5VJBVbqO-3sQ",
        "colab": {
          "base_uri": "https://localhost:8080/",
          "height": 55
        },
        "outputId": "0a38bbf8-d21f-42a5-df48-9a08a4b7a5b1"
      },
      "execution_count": 58,
      "outputs": [
        {
          "output_type": "execute_result",
          "data": {
            "text/plain": [
              "1/factorial(n + 1)"
            ],
            "text/latex": "$\\displaystyle \\frac{1}{\\left(n + 1\\right)!}$"
          },
          "metadata": {},
          "execution_count": 58
        }
      ]
    },
    {
      "cell_type": "code",
      "source": [
        "sp.limit(a_n1/a_n,n,sp.oo)"
      ],
      "metadata": {
        "id": "PcukhgBN-7Uo",
        "colab": {
          "base_uri": "https://localhost:8080/",
          "height": 37
        },
        "outputId": "6040ae20-ea6f-4159-d9ef-44ea4ac2c312"
      },
      "execution_count": 68,
      "outputs": [
        {
          "output_type": "execute_result",
          "data": {
            "text/plain": [
              "0"
            ],
            "text/latex": "$\\displaystyle 0$"
          },
          "metadata": {},
          "execution_count": 68
        }
      ]
    },
    {
      "cell_type": "markdown",
      "metadata": {
        "id": "yjtT3cDZ3Zhk"
      },
      "source": [
        "\n",
        "## b) Calculamos $f(x_0)$ y $S_{10}(x_0)$ con $X_0$ dentro del intervalo de convergencia."
      ]
    },
    {
      "cell_type": "code",
      "execution_count": 59,
      "metadata": {
        "id": "d7QZ4rt93Zhl"
      },
      "outputs": [],
      "source": [
        "#Defina la funcion f\n",
        "f = sp.Function('f')\n",
        "f = sp.exp(x)"
      ]
    },
    {
      "cell_type": "code",
      "execution_count": 60,
      "metadata": {
        "id": "UYrGaSZN3Zhm",
        "colab": {
          "base_uri": "https://localhost:8080/",
          "height": 38
        },
        "outputId": "4a11d3c6-d1d3-48d9-db51-7c845dec8f71"
      },
      "outputs": [
        {
          "output_type": "execute_result",
          "data": {
            "text/plain": [
              "exp(x)"
            ],
            "text/latex": "$\\displaystyle e^{x}$"
          },
          "metadata": {},
          "execution_count": 60
        }
      ],
      "source": [
        "f"
      ]
    },
    {
      "cell_type": "code",
      "execution_count": 61,
      "metadata": {
        "id": "_YwTvlEn3Zhm"
      },
      "outputs": [],
      "source": [
        "x_0=3"
      ]
    },
    {
      "cell_type": "code",
      "execution_count": 62,
      "metadata": {
        "id": "m_xCnTTK3Zhm"
      },
      "outputs": [],
      "source": [
        "#defina la suma parcial S_10 con m=10\n",
        "S_10 = S_m.subs(m,10)"
      ]
    },
    {
      "cell_type": "code",
      "execution_count": 63,
      "metadata": {
        "id": "itu6Jjy83Zhn",
        "colab": {
          "base_uri": "https://localhost:8080/",
          "height": 69
        },
        "outputId": "67a1449e-056a-4207-b361-3c0e41c604d9"
      },
      "outputs": [
        {
          "output_type": "execute_result",
          "data": {
            "text/plain": [
              "Sum(x**n/factorial(n), (n, 0, 10))"
            ],
            "text/latex": "$\\displaystyle \\sum_{n=0}^{10} \\frac{x^{n}}{n!}$"
          },
          "metadata": {},
          "execution_count": 63
        }
      ],
      "source": [
        "S_10"
      ]
    },
    {
      "cell_type": "code",
      "execution_count": 64,
      "metadata": {
        "scrolled": true,
        "id": "_AlSk7rz3Zho",
        "colab": {
          "base_uri": "https://localhost:8080/",
          "height": 54
        },
        "outputId": "c2ccf727-ff1c-47df-81ce-6f5d339be503"
      },
      "outputs": [
        {
          "output_type": "execute_result",
          "data": {
            "text/plain": [
              "x**10/3628800 + x**9/362880 + x**8/40320 + x**7/5040 + x**6/720 + x**5/120 + x**4/24 + x**3/6 + x**2/2 + x + 1"
            ],
            "text/latex": "$\\displaystyle \\frac{x^{10}}{3628800} + \\frac{x^{9}}{362880} + \\frac{x^{8}}{40320} + \\frac{x^{7}}{5040} + \\frac{x^{6}}{720} + \\frac{x^{5}}{120} + \\frac{x^{4}}{24} + \\frac{x^{3}}{6} + \\frac{x^{2}}{2} + x + 1$"
          },
          "metadata": {},
          "execution_count": 64
        }
      ],
      "source": [
        "S_10.doit()"
      ]
    },
    {
      "cell_type": "code",
      "execution_count": 65,
      "metadata": {
        "id": "1qDxtCoE3Zho",
        "colab": {
          "base_uri": "https://localhost:8080/",
          "height": 37
        },
        "outputId": "64884516-a14c-4edc-c367-3a5a570bed12"
      },
      "outputs": [
        {
          "output_type": "execute_result",
          "data": {
            "text/plain": [
              "20.0855369231877"
            ],
            "text/latex": "$\\displaystyle 20.0855369231877$"
          },
          "metadata": {},
          "execution_count": 65
        }
      ],
      "source": [
        "f.subs(x,x_0).evalf()    #l a funcion evaluada en x igual 3"
      ]
    },
    {
      "cell_type": "code",
      "execution_count": 66,
      "metadata": {
        "id": "9k2MIrN03Zhp",
        "colab": {
          "base_uri": "https://localhost:8080/",
          "height": 69
        },
        "outputId": "9df5bf97-94e2-4c12-8756-58b99c460af8"
      },
      "outputs": [
        {
          "output_type": "execute_result",
          "data": {
            "text/plain": [
              "Sum(3**n/factorial(n), (n, 0, 10))"
            ],
            "text/latex": "$\\displaystyle \\sum_{n=0}^{10} \\frac{3^{n}}{n!}$"
          },
          "metadata": {},
          "execution_count": 66
        }
      ],
      "source": [
        "S_10.subs(x,x_0)"
      ]
    },
    {
      "cell_type": "code",
      "execution_count": 67,
      "metadata": {
        "id": "U_aL3MGW3Zhp",
        "colab": {
          "base_uri": "https://localhost:8080/",
          "height": 37
        },
        "outputId": "677a4180-d29b-4ff3-8d8b-25d82c71fcc2"
      },
      "outputs": [
        {
          "output_type": "execute_result",
          "data": {
            "text/plain": [
              "20.0796651785714"
            ],
            "text/latex": "$\\displaystyle 20.0796651785714$"
          },
          "metadata": {},
          "execution_count": 67
        }
      ],
      "source": [
        "S_10.subs(x,x_0).evalf()    #da bastante similar, es una buena aproximacion"
      ]
    },
    {
      "cell_type": "markdown",
      "metadata": {
        "id": "2W91HAsU3Zhq"
      },
      "source": [
        "### Calculamos $f(x_1)$ y $S_{10}(x_1)$ con $X_1$ fuera del intervalo de convergencia."
      ]
    },
    {
      "cell_type": "markdown",
      "metadata": {
        "id": "FRUlqZKY3Zhr"
      },
      "source": [
        "No es posible, pues el intervalo de convergencia es infinito. Es decir son todos los reales."
      ]
    },
    {
      "cell_type": "markdown",
      "metadata": {
        "id": "NnM9Mj_q3Zhr"
      },
      "source": [
        "# c)"
      ]
    },
    {
      "cell_type": "code",
      "execution_count": 69,
      "metadata": {
        "scrolled": true,
        "id": "NF0VmeXS3Zhr"
      },
      "outputs": [],
      "source": [
        "S_1 = S_m.subs(m,1)"
      ]
    },
    {
      "cell_type": "code",
      "execution_count": 70,
      "metadata": {
        "id": "VY84bHkd3Zhr",
        "colab": {
          "base_uri": "https://localhost:8080/",
          "height": 38
        },
        "outputId": "9cab3927-0b86-434b-b1b5-cafb524c5bca"
      },
      "outputs": [
        {
          "output_type": "execute_result",
          "data": {
            "text/plain": [
              "x + 1"
            ],
            "text/latex": "$\\displaystyle x + 1$"
          },
          "metadata": {},
          "execution_count": 70
        }
      ],
      "source": [
        "S_1.doit()"
      ]
    },
    {
      "cell_type": "code",
      "execution_count": 71,
      "metadata": {
        "scrolled": true,
        "id": "vNrYWi5w3Zhr"
      },
      "outputs": [],
      "source": [
        "S_3 = S_m.subs(m,3)"
      ]
    },
    {
      "cell_type": "code",
      "execution_count": 72,
      "metadata": {
        "id": "Gny2D7H33Zhr",
        "colab": {
          "base_uri": "https://localhost:8080/",
          "height": 54
        },
        "outputId": "4f12dbf8-9f06-4ac6-f52e-ffe91c8ba172"
      },
      "outputs": [
        {
          "output_type": "execute_result",
          "data": {
            "text/plain": [
              "x**3/6 + x**2/2 + x + 1"
            ],
            "text/latex": "$\\displaystyle \\frac{x^{3}}{6} + \\frac{x^{2}}{2} + x + 1$"
          },
          "metadata": {},
          "execution_count": 72
        }
      ],
      "source": [
        "S_3.doit()"
      ]
    },
    {
      "cell_type": "markdown",
      "metadata": {
        "id": "PCtCpKS33Zhs"
      },
      "source": [
        "# d)"
      ]
    },
    {
      "cell_type": "code",
      "execution_count": 73,
      "metadata": {
        "scrolled": false,
        "id": "wEmDR_AC3Zht"
      },
      "outputs": [],
      "source": [
        "a=-3\n",
        "b=3\n",
        "c = -2\n",
        "d = 20\n",
        "G_S1  = sp.plotting.plot(S_1, xlim=(a,b), ylim=(c,d), line_color='r', xlabel ='x', label='S_1',legend=True,show=False)\n",
        "G_S3  = sp.plotting.plot(S_3, xlim=(a,b), ylim=(c,d), line_color='b', xlabel ='x', label='S_3',show=False)\n",
        "G_S10 = sp.plotting.plot(S_10, xlim=(a,b), ylim=(c,d), line_color='k', xlabel ='x', label='S_10',show=False)\n",
        "G_ex  = sp.plotting.plot(sp.exp(x), xlim=(a,b), ylim=(c,d), line_color='y', xlabel ='x', label='exp(x)',show=False)\n",
        "G_S1.extend(G_S3)\n",
        "G_S1.extend(G_S10)\n",
        "G_S1.extend(G_ex)"
      ]
    },
    {
      "cell_type": "code",
      "execution_count": 74,
      "metadata": {
        "id": "6pCbyQjv3Zht",
        "colab": {
          "base_uri": "https://localhost:8080/",
          "height": 481
        },
        "outputId": "f8153d5a-58c6-4c03-93be-3dcc900bd9a1"
      },
      "outputs": [
        {
          "output_type": "display_data",
          "data": {
            "text/plain": [
              "<Figure size 640x480 with 1 Axes>"
            ],
            "image/png": "[encoded data removed]"
          },
          "metadata": {}
        }
      ],
      "source": [
        "G_S1.show()"
      ]
    },
    {
      "cell_type": "code",
      "execution_count": null,
      "metadata": {
        "id": "5mXzSXDv3Zht"
      },
      "outputs": [],
      "source": []
    },
    {
      "cell_type": "markdown",
      "metadata": {
        "id": "PKH3eiS53Zhu"
      },
      "source": [
        "# a)"
      ]
    },
    {
      "cell_type": "markdown",
      "metadata": {
        "id": "-qklc3yI3Zhu"
      },
      "source": [
        "a) $f(x)=\\dfrac{1}{1-x}$ $a=6$"
      ]
    },
    {
      "cell_type": "code",
      "execution_count": 79,
      "metadata": {
        "id": "s2mKLW0E3Zhu"
      },
      "outputs": [],
      "source": [
        "#Defina la funcion f\n",
        "a =\n",
        "f = sp.Function('f')\n",
        "f = (1/(1-x))*a -6"
      ]
    },
    {
      "cell_type": "code",
      "execution_count": 80,
      "metadata": {
        "id": "HfbNB5Hu3Zhv",
        "colab": {
          "base_uri": "https://localhost:8080/",
          "height": 52
        },
        "outputId": "5bf27115-6795-4f42-be8a-6e7f9778b587"
      },
      "outputs": [
        {
          "output_type": "execute_result",
          "data": {
            "text/plain": [
              "-6 - 3/(1 - x)"
            ],
            "text/latex": "$\\displaystyle -6 - \\frac{3}{1 - x}$"
          },
          "metadata": {},
          "execution_count": 80
        }
      ],
      "source": [
        "f"
      ]
    },
    {
      "cell_type": "code",
      "source": [
        "from cvyed import derivadas"
      ],
      "metadata": {
        "id": "fRRSGaiG7KnI"
      },
      "execution_count": null,
      "outputs": []
    },
    {
      "cell_type": "code",
      "execution_count": null,
      "metadata": {
        "scrolled": true,
        "id": "v4hhn7_N3Zhv"
      },
      "outputs": [],
      "source": [
        "derivadas(f,5)"
      ]
    },
    {
      "cell_type": "code",
      "execution_count": null,
      "metadata": {
        "id": "z6Q3lChP3Zhv"
      },
      "outputs": [],
      "source": [
        "f_n = sp.factorial(n)/(1-x)**(n+1)\n",
        "f_n"
      ]
    },
    {
      "cell_type": "code",
      "execution_count": null,
      "metadata": {
        "id": "bjabjqdn3Zhv",
        "colab": {
          "base_uri": "https://localhost:8080/",
          "height": 39
        },
        "outputId": "6b4fba42-2806-4a5d-dff8-db00425f35e0"
      },
      "outputs": [
        {
          "output_type": "execute_result",
          "data": {
            "text/plain": [
              "(-5)**(-n - 1)*factorial(n)"
            ],
            "text/latex": "$\\displaystyle \\left(-5\\right)^{- n - 1} n!$"
          },
          "metadata": {},
          "execution_count": 21
        }
      ],
      "source": [
        "c=6\n",
        "\n",
        "f_n_c = f_n.subs(x,c)\n",
        "\n",
        "f_n_c"
      ]
    },
    {
      "cell_type": "code",
      "execution_count": null,
      "metadata": {
        "id": "Nqs61eop3Zhw",
        "colab": {
          "base_uri": "https://localhost:8080/",
          "height": 39
        },
        "outputId": "a87e10d6-d910-4e94-d626-e60698ca8b5d"
      },
      "outputs": [
        {
          "output_type": "execute_result",
          "data": {
            "text/plain": [
              "(-5)**(-n - 1)*(x - 6)**n"
            ],
            "text/latex": "$\\displaystyle \\left(-5\\right)^{- n - 1} \\left(x - 6\\right)^{n}$"
          },
          "metadata": {},
          "execution_count": 22
        }
      ],
      "source": [
        "a_n = f_n_c/sp.factorial(n)*(x-c)**n\n",
        "\n",
        "a_n"
      ]
    },
    {
      "cell_type": "code",
      "source": [
        "a_n1 = a_n.subs(n,n+1)\n",
        "a_n1"
      ],
      "metadata": {
        "id": "iO69BzAz_YDh",
        "colab": {
          "base_uri": "https://localhost:8080/",
          "height": 39
        },
        "outputId": "d6be89f2-bc61-4fca-c0a3-236c11e8a2c8"
      },
      "execution_count": null,
      "outputs": [
        {
          "output_type": "execute_result",
          "data": {
            "text/plain": [
              "(-5)**(-n - 2)*(x - 6)**(n + 1)"
            ],
            "text/latex": "$\\displaystyle \\left(-5\\right)^{- n - 2} \\left(x - 6\\right)^{n + 1}$"
          },
          "metadata": {},
          "execution_count": 25
        }
      ]
    },
    {
      "cell_type": "code",
      "source": [
        "sp.limit(a_n1/a_n,n,sp.oo)"
      ],
      "metadata": {
        "id": "8uYkPjxK_b9A",
        "colab": {
          "base_uri": "https://localhost:8080/",
          "height": 51
        },
        "outputId": "e308a28a-192e-4f47-ebe5-add0dd099e7a"
      },
      "execution_count": null,
      "outputs": [
        {
          "output_type": "execute_result",
          "data": {
            "text/plain": [
              "6/5 - x/5"
            ],
            "text/latex": "$\\displaystyle \\frac{6}{5} - \\frac{x}{5}$"
          },
          "metadata": {},
          "execution_count": 26
        }
      ]
    },
    {
      "cell_type": "code",
      "source": [
        "sp.solve(sp.Abs(6/5-x/5)<1)"
      ],
      "metadata": {
        "id": "H0_2ihHP_qw5",
        "colab": {
          "base_uri": "https://localhost:8080/",
          "height": 38
        },
        "outputId": "5db56cba-8613-4e65-e24d-89865b07a2d2"
      },
      "execution_count": null,
      "outputs": [
        {
          "output_type": "execute_result",
          "data": {
            "text/plain": [
              "(1.0 < x) & (x < 11.0)"
            ],
            "text/latex": "$\\displaystyle 1.0 < x \\wedge x < 11.0$"
          },
          "metadata": {},
          "execution_count": 27
        }
      ]
    },
    {
      "cell_type": "code",
      "execution_count": null,
      "metadata": {
        "id": "jiQElvNx3Zhw"
      },
      "outputs": [],
      "source": [
        "# Definimos la sumatoria de la serie\n",
        "S_m = ...\n",
        "\n",
        "S_m"
      ]
    },
    {
      "cell_type": "markdown",
      "metadata": {
        "id": "qkVCVI9K3Zhx"
      },
      "source": [
        "### Calculamos $f(x_0)$ y $S_{10}(x_0)$ con $X_0$ dentro del intervalo de convergencia."
      ]
    },
    {
      "cell_type": "code",
      "execution_count": null,
      "metadata": {
        "id": "AhjcgKc93Zhy"
      },
      "outputs": [],
      "source": [
        "#define la suma partcial S_10 con m=10\n",
        "..."
      ]
    },
    {
      "cell_type": "code",
      "execution_count": null,
      "metadata": {
        "id": "G33hgPKs3Zhy"
      },
      "outputs": [],
      "source": [
        "S_10"
      ]
    },
    {
      "cell_type": "code",
      "execution_count": null,
      "metadata": {
        "scrolled": true,
        "id": "_HZalGHC3Zhy"
      },
      "outputs": [],
      "source": [
        "S_10.doit()"
      ]
    },
    {
      "cell_type": "code",
      "execution_count": null,
      "metadata": {
        "id": "ielGLFXO3Zhz"
      },
      "outputs": [],
      "source": [
        "# Elegimos un punto DENTRO del intervalo de convergencia\n",
        "x_0= ..."
      ]
    },
    {
      "cell_type": "code",
      "execution_count": null,
      "metadata": {
        "id": "aHjTWQoa3Zhz"
      },
      "outputs": [],
      "source": [
        "f.subs(x,x_0)"
      ]
    },
    {
      "cell_type": "code",
      "execution_count": null,
      "metadata": {
        "id": "VpUnO3ks3Zhz"
      },
      "outputs": [],
      "source": [
        "S_10.subs(x,x_0)"
      ]
    },
    {
      "cell_type": "code",
      "execution_count": null,
      "metadata": {
        "id": "-hPpxca73Zh0"
      },
      "outputs": [],
      "source": [
        "S_10.subs(x,x_0).evalf()"
      ]
    },
    {
      "cell_type": "markdown",
      "metadata": {
        "id": "MPmRFshs3Zh0"
      },
      "source": [
        "### Calculamos $f(x_1)$ y $S_{10}(x_1)$ con $X_1$ fuera del intervalo de convergencia."
      ]
    },
    {
      "cell_type": "code",
      "execution_count": null,
      "metadata": {
        "id": "e2CO1hK-3Zh0"
      },
      "outputs": [],
      "source": [
        "# Elegimos un punto FUERA del intervalo de convergencia\n",
        "x_0= ..."
      ]
    },
    {
      "cell_type": "code",
      "execution_count": null,
      "metadata": {
        "id": "DotKceS83Zh1"
      },
      "outputs": [],
      "source": [
        "f.subs(x,x_0)"
      ]
    },
    {
      "cell_type": "code",
      "execution_count": null,
      "metadata": {
        "id": "xVD-PeJF3Zh1"
      },
      "outputs": [],
      "source": [
        "S_10.subs(x,x_0)"
      ]
    },
    {
      "cell_type": "code",
      "execution_count": null,
      "metadata": {
        "id": "kJ21hsm-3Zh2"
      },
      "outputs": [],
      "source": [
        "S_10.subs(x,x_0).evalf()"
      ]
    },
    {
      "cell_type": "markdown",
      "metadata": {
        "id": "T6NzHuWI3Zh2"
      },
      "source": [
        "# c)"
      ]
    },
    {
      "cell_type": "code",
      "execution_count": null,
      "metadata": {
        "scrolled": true,
        "id": "j-z71k953Zh2"
      },
      "outputs": [],
      "source": [
        "S_1 = ..."
      ]
    },
    {
      "cell_type": "code",
      "execution_count": null,
      "metadata": {
        "id": "d1su_jXm3Zh3"
      },
      "outputs": [],
      "source": [
        "S_1.doit()"
      ]
    },
    {
      "cell_type": "code",
      "execution_count": null,
      "metadata": {
        "scrolled": true,
        "id": "a0GZDyr03Zh3"
      },
      "outputs": [],
      "source": [
        "S_3 = ..."
      ]
    },
    {
      "cell_type": "code",
      "execution_count": null,
      "metadata": {
        "id": "lJoUxVz33Zh3"
      },
      "outputs": [],
      "source": [
        "S_3.doit()"
      ]
    },
    {
      "cell_type": "code",
      "execution_count": null,
      "metadata": {
        "scrolled": true,
        "id": "UQdiUkaH3Zh3"
      },
      "outputs": [],
      "source": [
        "S_10 = ..."
      ]
    },
    {
      "cell_type": "code",
      "execution_count": null,
      "metadata": {
        "id": "kTgyobVD3Zh3"
      },
      "outputs": [],
      "source": [
        "S_10.doit()"
      ]
    },
    {
      "cell_type": "markdown",
      "metadata": {
        "id": "5IjClu9N3Zh3"
      },
      "source": [
        "# d)"
      ]
    },
    {
      "cell_type": "code",
      "execution_count": null,
      "metadata": {
        "id": "8RBVg1uf3Zh4"
      },
      "outputs": [],
      "source": []
    },
    {
      "cell_type": "code",
      "execution_count": null,
      "metadata": {
        "scrolled": false,
        "id": "a8i_fORD3Zh4"
      },
      "outputs": [],
      "source": [
        "a=0\n",
        "b=15\n",
        "c = -2\n",
        "d = 0.5\n",
        "G_S1  = ...\n",
        "G_S3  = ...\n",
        "G_S10 = ...\n",
        "G_ex  = ...\n",
        "G_S1.extend(G_S3)\n",
        "G_S1.extend(G_S10)\n",
        "G_S1.extend(G_ex)"
      ]
    },
    {
      "cell_type": "code",
      "execution_count": null,
      "metadata": {
        "id": "VXmTgtk23Zh4"
      },
      "outputs": [],
      "source": [
        "G_S1.show()"
      ]
    }
  ],
  "metadata": {
    "kernelspec": {
      "display_name": "Python 3",
      "language": "python",
      "name": "python3"
    },
    "language_info": {
      "codemirror_mode": {
        "name": "ipython",
        "version": 3
      },
      "file_extension": ".py",
      "mimetype": "text/x-python",
      "name": "python",
      "nbconvert_exporter": "python",
      "pygments_lexer": "ipython3",
      "version": "3.8.3"
    },
    "colab": {
      "provenance": [],
      "include_colab_link": true
    }
  },
  "nbformat": 4,
  "nbformat_minor": 0
}